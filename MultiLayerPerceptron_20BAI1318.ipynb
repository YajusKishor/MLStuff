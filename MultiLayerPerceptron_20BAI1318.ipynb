{
 "cells": [
  {
   "cell_type": "markdown",
   "source": [
    "### CSE1015 - Lab 6 - Multi Layer Perceptron - Classification and Regression\n",
    "Yajus Kishor\n",
    "20BAI1318"
   ],
   "metadata": {
    "collapsed": false,
    "pycharm": {
     "name": "#%% md\n"
    }
   }
  },
  {
   "cell_type": "code",
   "execution_count": 2,
   "outputs": [],
   "source": [
    "import pandas as pd\n",
    "\n",
    "df = pd.read_csv('bank_data.csv')"
   ],
   "metadata": {
    "collapsed": false,
    "pycharm": {
     "name": "#%%\n"
    }
   }
  },
  {
   "cell_type": "code",
   "execution_count": 3,
   "outputs": [
    {
     "name": "stdout",
     "output_type": "stream",
     "text": [
      "<class 'pandas.core.frame.DataFrame'>\n",
      "RangeIndex: 4119 entries, 0 to 4118\n",
      "Data columns (total 21 columns):\n",
      " #   Column          Non-Null Count  Dtype  \n",
      "---  ------          --------------  -----  \n",
      " 0   age             4119 non-null   int64  \n",
      " 1   job             4119 non-null   object \n",
      " 2   marital         4119 non-null   object \n",
      " 3   education       4119 non-null   object \n",
      " 4   default         4119 non-null   object \n",
      " 5   housing         4119 non-null   object \n",
      " 6   loan            4119 non-null   object \n",
      " 7   contact         4119 non-null   object \n",
      " 8   month           4119 non-null   object \n",
      " 9   day_of_week     4119 non-null   object \n",
      " 10  duration        4119 non-null   int64  \n",
      " 11  campaign        4119 non-null   int64  \n",
      " 12  pdays           4119 non-null   int64  \n",
      " 13  previous        4119 non-null   int64  \n",
      " 14  poutcome        4119 non-null   object \n",
      " 15  emp.var.rate    4119 non-null   float64\n",
      " 16  cons.price.idx  4119 non-null   float64\n",
      " 17  cons.conf.idx   4119 non-null   float64\n",
      " 18  euribor3m       4119 non-null   float64\n",
      " 19  nr.employed     4119 non-null   float64\n",
      " 20  y               4119 non-null   object \n",
      "dtypes: float64(5), int64(5), object(11)\n",
      "memory usage: 675.9+ KB\n"
     ]
    }
   ],
   "source": [
    "df.info()"
   ],
   "metadata": {
    "collapsed": false,
    "pycharm": {
     "name": "#%%\n"
    }
   }
  },
  {
   "cell_type": "code",
   "execution_count": 4,
   "outputs": [
    {
     "data": {
      "text/plain": "   age          job  marital          education default  housing     loan  \\\n0   30  blue-collar  married           basic.9y      no      yes       no   \n1   39     services   single        high.school      no       no       no   \n2   25     services  married        high.school      no      yes       no   \n3   38     services  married           basic.9y      no  unknown  unknown   \n4   47       admin.  married  university.degree      no      yes       no   \n\n     contact month day_of_week  ...  campaign  pdays  previous     poutcome  \\\n0   cellular   may         fri  ...         2    999         0  nonexistent   \n1  telephone   may         fri  ...         4    999         0  nonexistent   \n2  telephone   jun         wed  ...         1    999         0  nonexistent   \n3  telephone   jun         fri  ...         3    999         0  nonexistent   \n4   cellular   nov         mon  ...         1    999         0  nonexistent   \n\n  emp.var.rate  cons.price.idx  cons.conf.idx  euribor3m  nr.employed   y  \n0         -1.8          92.893          -46.2      1.313       5099.1  no  \n1          1.1          93.994          -36.4      4.855       5191.0  no  \n2          1.4          94.465          -41.8      4.962       5228.1  no  \n3          1.4          94.465          -41.8      4.959       5228.1  no  \n4         -0.1          93.200          -42.0      4.191       5195.8  no  \n\n[5 rows x 21 columns]",
      "text/html": "<div>\n<style scoped>\n    .dataframe tbody tr th:only-of-type {\n        vertical-align: middle;\n    }\n\n    .dataframe tbody tr th {\n        vertical-align: top;\n    }\n\n    .dataframe thead th {\n        text-align: right;\n    }\n</style>\n<table border=\"1\" class=\"dataframe\">\n  <thead>\n    <tr style=\"text-align: right;\">\n      <th></th>\n      <th>age</th>\n      <th>job</th>\n      <th>marital</th>\n      <th>education</th>\n      <th>default</th>\n      <th>housing</th>\n      <th>loan</th>\n      <th>contact</th>\n      <th>month</th>\n      <th>day_of_week</th>\n      <th>...</th>\n      <th>campaign</th>\n      <th>pdays</th>\n      <th>previous</th>\n      <th>poutcome</th>\n      <th>emp.var.rate</th>\n      <th>cons.price.idx</th>\n      <th>cons.conf.idx</th>\n      <th>euribor3m</th>\n      <th>nr.employed</th>\n      <th>y</th>\n    </tr>\n  </thead>\n  <tbody>\n    <tr>\n      <th>0</th>\n      <td>30</td>\n      <td>blue-collar</td>\n      <td>married</td>\n      <td>basic.9y</td>\n      <td>no</td>\n      <td>yes</td>\n      <td>no</td>\n      <td>cellular</td>\n      <td>may</td>\n      <td>fri</td>\n      <td>...</td>\n      <td>2</td>\n      <td>999</td>\n      <td>0</td>\n      <td>nonexistent</td>\n      <td>-1.8</td>\n      <td>92.893</td>\n      <td>-46.2</td>\n      <td>1.313</td>\n      <td>5099.1</td>\n      <td>no</td>\n    </tr>\n    <tr>\n      <th>1</th>\n      <td>39</td>\n      <td>services</td>\n      <td>single</td>\n      <td>high.school</td>\n      <td>no</td>\n      <td>no</td>\n      <td>no</td>\n      <td>telephone</td>\n      <td>may</td>\n      <td>fri</td>\n      <td>...</td>\n      <td>4</td>\n      <td>999</td>\n      <td>0</td>\n      <td>nonexistent</td>\n      <td>1.1</td>\n      <td>93.994</td>\n      <td>-36.4</td>\n      <td>4.855</td>\n      <td>5191.0</td>\n      <td>no</td>\n    </tr>\n    <tr>\n      <th>2</th>\n      <td>25</td>\n      <td>services</td>\n      <td>married</td>\n      <td>high.school</td>\n      <td>no</td>\n      <td>yes</td>\n      <td>no</td>\n      <td>telephone</td>\n      <td>jun</td>\n      <td>wed</td>\n      <td>...</td>\n      <td>1</td>\n      <td>999</td>\n      <td>0</td>\n      <td>nonexistent</td>\n      <td>1.4</td>\n      <td>94.465</td>\n      <td>-41.8</td>\n      <td>4.962</td>\n      <td>5228.1</td>\n      <td>no</td>\n    </tr>\n    <tr>\n      <th>3</th>\n      <td>38</td>\n      <td>services</td>\n      <td>married</td>\n      <td>basic.9y</td>\n      <td>no</td>\n      <td>unknown</td>\n      <td>unknown</td>\n      <td>telephone</td>\n      <td>jun</td>\n      <td>fri</td>\n      <td>...</td>\n      <td>3</td>\n      <td>999</td>\n      <td>0</td>\n      <td>nonexistent</td>\n      <td>1.4</td>\n      <td>94.465</td>\n      <td>-41.8</td>\n      <td>4.959</td>\n      <td>5228.1</td>\n      <td>no</td>\n    </tr>\n    <tr>\n      <th>4</th>\n      <td>47</td>\n      <td>admin.</td>\n      <td>married</td>\n      <td>university.degree</td>\n      <td>no</td>\n      <td>yes</td>\n      <td>no</td>\n      <td>cellular</td>\n      <td>nov</td>\n      <td>mon</td>\n      <td>...</td>\n      <td>1</td>\n      <td>999</td>\n      <td>0</td>\n      <td>nonexistent</td>\n      <td>-0.1</td>\n      <td>93.200</td>\n      <td>-42.0</td>\n      <td>4.191</td>\n      <td>5195.8</td>\n      <td>no</td>\n    </tr>\n  </tbody>\n</table>\n<p>5 rows × 21 columns</p>\n</div>"
     },
     "execution_count": 4,
     "metadata": {},
     "output_type": "execute_result"
    }
   ],
   "source": [
    "df.head()"
   ],
   "metadata": {
    "collapsed": false,
    "pycharm": {
     "name": "#%%\n"
    }
   }
  },
  {
   "cell_type": "code",
   "execution_count": 5,
   "outputs": [],
   "source": [
    "df['OUTPUT_LABEL'] = (df.y == 'yes').astype(int)"
   ],
   "metadata": {
    "collapsed": false,
    "pycharm": {
     "name": "#%%\n"
    }
   }
  },
  {
   "cell_type": "code",
   "execution_count": 6,
   "outputs": [
    {
     "name": "stdout",
     "output_type": "stream",
     "text": [
      "<class 'pandas.core.frame.DataFrame'>\n",
      "RangeIndex: 4119 entries, 0 to 4118\n",
      "Data columns (total 22 columns):\n",
      " #   Column          Non-Null Count  Dtype  \n",
      "---  ------          --------------  -----  \n",
      " 0   age             4119 non-null   int64  \n",
      " 1   job             4119 non-null   object \n",
      " 2   marital         4119 non-null   object \n",
      " 3   education       4119 non-null   object \n",
      " 4   default         4119 non-null   object \n",
      " 5   housing         4119 non-null   object \n",
      " 6   loan            4119 non-null   object \n",
      " 7   contact         4119 non-null   object \n",
      " 8   month           4119 non-null   object \n",
      " 9   day_of_week     4119 non-null   object \n",
      " 10  duration        4119 non-null   int64  \n",
      " 11  campaign        4119 non-null   int64  \n",
      " 12  pdays           4119 non-null   int64  \n",
      " 13  previous        4119 non-null   int64  \n",
      " 14  poutcome        4119 non-null   object \n",
      " 15  emp.var.rate    4119 non-null   float64\n",
      " 16  cons.price.idx  4119 non-null   float64\n",
      " 17  cons.conf.idx   4119 non-null   float64\n",
      " 18  euribor3m       4119 non-null   float64\n",
      " 19  nr.employed     4119 non-null   float64\n",
      " 20  y               4119 non-null   object \n",
      " 21  OUTPUT_LABEL    4119 non-null   int32  \n",
      "dtypes: float64(5), int32(1), int64(5), object(11)\n",
      "memory usage: 692.0+ KB\n"
     ]
    }
   ],
   "source": [
    "df.info()"
   ],
   "metadata": {
    "collapsed": false,
    "pycharm": {
     "name": "#%%\n"
    }
   }
  },
  {
   "cell_type": "code",
   "execution_count": 7,
   "outputs": [],
   "source": [
    "numerical_columns = ['campaign', 'pdays',\n",
    "            'previous', 'emp.var.rate', 'cons.price.idx', 'cons.conf.idx', 'nr.employed', 'age', 'euribor3m']"
   ],
   "metadata": {
    "collapsed": false,
    "pycharm": {
     "name": "#%%\n"
    }
   }
  },
  {
   "cell_type": "code",
   "execution_count": 8,
   "outputs": [
    {
     "data": {
      "text/plain": "   campaign  pdays  previous  emp.var.rate  cons.price.idx  cons.conf.idx  \\\n0         2    999         0          -1.8          92.893          -46.2   \n1         4    999         0           1.1          93.994          -36.4   \n2         1    999         0           1.4          94.465          -41.8   \n3         3    999         0           1.4          94.465          -41.8   \n4         1    999         0          -0.1          93.200          -42.0   \n\n   nr.employed  age  euribor3m  \n0       5099.1   30      1.313  \n1       5191.0   39      4.855  \n2       5228.1   25      4.962  \n3       5228.1   38      4.959  \n4       5195.8   47      4.191  ",
      "text/html": "<div>\n<style scoped>\n    .dataframe tbody tr th:only-of-type {\n        vertical-align: middle;\n    }\n\n    .dataframe tbody tr th {\n        vertical-align: top;\n    }\n\n    .dataframe thead th {\n        text-align: right;\n    }\n</style>\n<table border=\"1\" class=\"dataframe\">\n  <thead>\n    <tr style=\"text-align: right;\">\n      <th></th>\n      <th>campaign</th>\n      <th>pdays</th>\n      <th>previous</th>\n      <th>emp.var.rate</th>\n      <th>cons.price.idx</th>\n      <th>cons.conf.idx</th>\n      <th>nr.employed</th>\n      <th>age</th>\n      <th>euribor3m</th>\n    </tr>\n  </thead>\n  <tbody>\n    <tr>\n      <th>0</th>\n      <td>2</td>\n      <td>999</td>\n      <td>0</td>\n      <td>-1.8</td>\n      <td>92.893</td>\n      <td>-46.2</td>\n      <td>5099.1</td>\n      <td>30</td>\n      <td>1.313</td>\n    </tr>\n    <tr>\n      <th>1</th>\n      <td>4</td>\n      <td>999</td>\n      <td>0</td>\n      <td>1.1</td>\n      <td>93.994</td>\n      <td>-36.4</td>\n      <td>5191.0</td>\n      <td>39</td>\n      <td>4.855</td>\n    </tr>\n    <tr>\n      <th>2</th>\n      <td>1</td>\n      <td>999</td>\n      <td>0</td>\n      <td>1.4</td>\n      <td>94.465</td>\n      <td>-41.8</td>\n      <td>5228.1</td>\n      <td>25</td>\n      <td>4.962</td>\n    </tr>\n    <tr>\n      <th>3</th>\n      <td>3</td>\n      <td>999</td>\n      <td>0</td>\n      <td>1.4</td>\n      <td>94.465</td>\n      <td>-41.8</td>\n      <td>5228.1</td>\n      <td>38</td>\n      <td>4.959</td>\n    </tr>\n    <tr>\n      <th>4</th>\n      <td>1</td>\n      <td>999</td>\n      <td>0</td>\n      <td>-0.1</td>\n      <td>93.200</td>\n      <td>-42.0</td>\n      <td>5195.8</td>\n      <td>47</td>\n      <td>4.191</td>\n    </tr>\n  </tbody>\n</table>\n</div>"
     },
     "execution_count": 8,
     "metadata": {},
     "output_type": "execute_result"
    }
   ],
   "source": [
    "df[numerical_columns].head()"
   ],
   "metadata": {
    "collapsed": false,
    "pycharm": {
     "name": "#%%\n"
    }
   }
  },
  {
   "cell_type": "code",
   "execution_count": 9,
   "outputs": [],
   "source": [
    "categorical_columns = ['job', 'marital', 'education', 'default', 'housing', 'loan', 'contact', 'month', 'day_of_week', 'poutcome']"
   ],
   "metadata": {
    "collapsed": false,
    "pycharm": {
     "name": "#%%\n"
    }
   }
  },
  {
   "cell_type": "code",
   "execution_count": 10,
   "outputs": [
    {
     "data": {
      "text/plain": "           job  marital          education default  housing     loan  \\\n0  blue-collar  married           basic.9y      no      yes       no   \n1     services   single        high.school      no       no       no   \n2     services  married        high.school      no      yes       no   \n3     services  married           basic.9y      no  unknown  unknown   \n4       admin.  married  university.degree      no      yes       no   \n\n     contact month day_of_week     poutcome  \n0   cellular   may         fri  nonexistent  \n1  telephone   may         fri  nonexistent  \n2  telephone   jun         wed  nonexistent  \n3  telephone   jun         fri  nonexistent  \n4   cellular   nov         mon  nonexistent  ",
      "text/html": "<div>\n<style scoped>\n    .dataframe tbody tr th:only-of-type {\n        vertical-align: middle;\n    }\n\n    .dataframe tbody tr th {\n        vertical-align: top;\n    }\n\n    .dataframe thead th {\n        text-align: right;\n    }\n</style>\n<table border=\"1\" class=\"dataframe\">\n  <thead>\n    <tr style=\"text-align: right;\">\n      <th></th>\n      <th>job</th>\n      <th>marital</th>\n      <th>education</th>\n      <th>default</th>\n      <th>housing</th>\n      <th>loan</th>\n      <th>contact</th>\n      <th>month</th>\n      <th>day_of_week</th>\n      <th>poutcome</th>\n    </tr>\n  </thead>\n  <tbody>\n    <tr>\n      <th>0</th>\n      <td>blue-collar</td>\n      <td>married</td>\n      <td>basic.9y</td>\n      <td>no</td>\n      <td>yes</td>\n      <td>no</td>\n      <td>cellular</td>\n      <td>may</td>\n      <td>fri</td>\n      <td>nonexistent</td>\n    </tr>\n    <tr>\n      <th>1</th>\n      <td>services</td>\n      <td>single</td>\n      <td>high.school</td>\n      <td>no</td>\n      <td>no</td>\n      <td>no</td>\n      <td>telephone</td>\n      <td>may</td>\n      <td>fri</td>\n      <td>nonexistent</td>\n    </tr>\n    <tr>\n      <th>2</th>\n      <td>services</td>\n      <td>married</td>\n      <td>high.school</td>\n      <td>no</td>\n      <td>yes</td>\n      <td>no</td>\n      <td>telephone</td>\n      <td>jun</td>\n      <td>wed</td>\n      <td>nonexistent</td>\n    </tr>\n    <tr>\n      <th>3</th>\n      <td>services</td>\n      <td>married</td>\n      <td>basic.9y</td>\n      <td>no</td>\n      <td>unknown</td>\n      <td>unknown</td>\n      <td>telephone</td>\n      <td>jun</td>\n      <td>fri</td>\n      <td>nonexistent</td>\n    </tr>\n    <tr>\n      <th>4</th>\n      <td>admin.</td>\n      <td>married</td>\n      <td>university.degree</td>\n      <td>no</td>\n      <td>yes</td>\n      <td>no</td>\n      <td>cellular</td>\n      <td>nov</td>\n      <td>mon</td>\n      <td>nonexistent</td>\n    </tr>\n  </tbody>\n</table>\n</div>"
     },
     "execution_count": 10,
     "metadata": {},
     "output_type": "execute_result"
    }
   ],
   "source": [
    "df[categorical_columns].head()"
   ],
   "metadata": {
    "collapsed": false,
    "pycharm": {
     "name": "#%%\n"
    }
   }
  },
  {
   "cell_type": "code",
   "execution_count": 11,
   "outputs": [
    {
     "data": {
      "text/plain": "job            0\nmarital        0\neducation      0\ndefault        0\nhousing        0\nloan           0\ncontact        0\nmonth          0\nday_of_week    0\npoutcome       0\ndtype: int64"
     },
     "execution_count": 11,
     "metadata": {},
     "output_type": "execute_result"
    }
   ],
   "source": [
    "df[categorical_columns].isnull().sum()"
   ],
   "metadata": {
    "collapsed": false,
    "pycharm": {
     "name": "#%%\n"
    }
   }
  },
  {
   "cell_type": "code",
   "execution_count": 12,
   "outputs": [
    {
     "data": {
      "text/plain": "   job_admin.  job_blue-collar  job_entrepreneur  job_housemaid  \\\n0           0                1                 0              0   \n1           0                0                 0              0   \n2           0                0                 0              0   \n3           0                0                 0              0   \n4           1                0                 0              0   \n\n   job_management  job_retired  job_self-employed  job_services  job_student  \\\n0               0            0                  0             0            0   \n1               0            0                  0             1            0   \n2               0            0                  0             1            0   \n3               0            0                  0             1            0   \n4               0            0                  0             0            0   \n\n   job_technician  ...  month_oct  month_sep  day_of_week_fri  \\\n0               0  ...          0          0                1   \n1               0  ...          0          0                1   \n2               0  ...          0          0                0   \n3               0  ...          0          0                1   \n4               0  ...          0          0                0   \n\n   day_of_week_mon  day_of_week_thu  day_of_week_tue  day_of_week_wed  \\\n0                0                0                0                0   \n1                0                0                0                0   \n2                0                0                0                1   \n3                0                0                0                0   \n4                1                0                0                0   \n\n   poutcome_failure  poutcome_nonexistent  poutcome_success  \n0                 0                     1                 0  \n1                 0                     1                 0  \n2                 0                     1                 0  \n3                 0                     1                 0  \n4                 0                     1                 0  \n\n[5 rows x 53 columns]",
      "text/html": "<div>\n<style scoped>\n    .dataframe tbody tr th:only-of-type {\n        vertical-align: middle;\n    }\n\n    .dataframe tbody tr th {\n        vertical-align: top;\n    }\n\n    .dataframe thead th {\n        text-align: right;\n    }\n</style>\n<table border=\"1\" class=\"dataframe\">\n  <thead>\n    <tr style=\"text-align: right;\">\n      <th></th>\n      <th>job_admin.</th>\n      <th>job_blue-collar</th>\n      <th>job_entrepreneur</th>\n      <th>job_housemaid</th>\n      <th>job_management</th>\n      <th>job_retired</th>\n      <th>job_self-employed</th>\n      <th>job_services</th>\n      <th>job_student</th>\n      <th>job_technician</th>\n      <th>...</th>\n      <th>month_oct</th>\n      <th>month_sep</th>\n      <th>day_of_week_fri</th>\n      <th>day_of_week_mon</th>\n      <th>day_of_week_thu</th>\n      <th>day_of_week_tue</th>\n      <th>day_of_week_wed</th>\n      <th>poutcome_failure</th>\n      <th>poutcome_nonexistent</th>\n      <th>poutcome_success</th>\n    </tr>\n  </thead>\n  <tbody>\n    <tr>\n      <th>0</th>\n      <td>0</td>\n      <td>1</td>\n      <td>0</td>\n      <td>0</td>\n      <td>0</td>\n      <td>0</td>\n      <td>0</td>\n      <td>0</td>\n      <td>0</td>\n      <td>0</td>\n      <td>...</td>\n      <td>0</td>\n      <td>0</td>\n      <td>1</td>\n      <td>0</td>\n      <td>0</td>\n      <td>0</td>\n      <td>0</td>\n      <td>0</td>\n      <td>1</td>\n      <td>0</td>\n    </tr>\n    <tr>\n      <th>1</th>\n      <td>0</td>\n      <td>0</td>\n      <td>0</td>\n      <td>0</td>\n      <td>0</td>\n      <td>0</td>\n      <td>0</td>\n      <td>1</td>\n      <td>0</td>\n      <td>0</td>\n      <td>...</td>\n      <td>0</td>\n      <td>0</td>\n      <td>1</td>\n      <td>0</td>\n      <td>0</td>\n      <td>0</td>\n      <td>0</td>\n      <td>0</td>\n      <td>1</td>\n      <td>0</td>\n    </tr>\n    <tr>\n      <th>2</th>\n      <td>0</td>\n      <td>0</td>\n      <td>0</td>\n      <td>0</td>\n      <td>0</td>\n      <td>0</td>\n      <td>0</td>\n      <td>1</td>\n      <td>0</td>\n      <td>0</td>\n      <td>...</td>\n      <td>0</td>\n      <td>0</td>\n      <td>0</td>\n      <td>0</td>\n      <td>0</td>\n      <td>0</td>\n      <td>1</td>\n      <td>0</td>\n      <td>1</td>\n      <td>0</td>\n    </tr>\n    <tr>\n      <th>3</th>\n      <td>0</td>\n      <td>0</td>\n      <td>0</td>\n      <td>0</td>\n      <td>0</td>\n      <td>0</td>\n      <td>0</td>\n      <td>1</td>\n      <td>0</td>\n      <td>0</td>\n      <td>...</td>\n      <td>0</td>\n      <td>0</td>\n      <td>1</td>\n      <td>0</td>\n      <td>0</td>\n      <td>0</td>\n      <td>0</td>\n      <td>0</td>\n      <td>1</td>\n      <td>0</td>\n    </tr>\n    <tr>\n      <th>4</th>\n      <td>1</td>\n      <td>0</td>\n      <td>0</td>\n      <td>0</td>\n      <td>0</td>\n      <td>0</td>\n      <td>0</td>\n      <td>0</td>\n      <td>0</td>\n      <td>0</td>\n      <td>...</td>\n      <td>0</td>\n      <td>0</td>\n      <td>0</td>\n      <td>1</td>\n      <td>0</td>\n      <td>0</td>\n      <td>0</td>\n      <td>0</td>\n      <td>1</td>\n      <td>0</td>\n    </tr>\n  </tbody>\n</table>\n<p>5 rows × 53 columns</p>\n</div>"
     },
     "execution_count": 12,
     "metadata": {},
     "output_type": "execute_result"
    }
   ],
   "source": [
    "new_categorical_columns = pd.get_dummies(df[categorical_columns], drop_first=False)\n",
    "new_categorical_columns.head()"
   ],
   "metadata": {
    "collapsed": false,
    "pycharm": {
     "name": "#%%\n"
    }
   }
  },
  {
   "cell_type": "code",
   "execution_count": 13,
   "outputs": [],
   "source": [
    "df = pd.concat([df, new_categorical_columns], axis=1)"
   ],
   "metadata": {
    "collapsed": false,
    "pycharm": {
     "name": "#%%\n"
    }
   }
  },
  {
   "cell_type": "code",
   "execution_count": 14,
   "outputs": [],
   "source": [
    "all_categorical_columns = list(new_categorical_columns.columns)"
   ],
   "metadata": {
    "collapsed": false,
    "pycharm": {
     "name": "#%%\n"
    }
   }
  },
  {
   "cell_type": "code",
   "execution_count": 15,
   "outputs": [
    {
     "data": {
      "text/plain": "   job_admin.  job_blue-collar  job_entrepreneur  job_housemaid  \\\n0           0                1                 0              0   \n1           0                0                 0              0   \n2           0                0                 0              0   \n3           0                0                 0              0   \n4           1                0                 0              0   \n\n   job_management  job_retired  job_self-employed  job_services  job_student  \\\n0               0            0                  0             0            0   \n1               0            0                  0             1            0   \n2               0            0                  0             1            0   \n3               0            0                  0             1            0   \n4               0            0                  0             0            0   \n\n   job_technician  ...  month_oct  month_sep  day_of_week_fri  \\\n0               0  ...          0          0                1   \n1               0  ...          0          0                1   \n2               0  ...          0          0                0   \n3               0  ...          0          0                1   \n4               0  ...          0          0                0   \n\n   day_of_week_mon  day_of_week_thu  day_of_week_tue  day_of_week_wed  \\\n0                0                0                0                0   \n1                0                0                0                0   \n2                0                0                0                1   \n3                0                0                0                0   \n4                1                0                0                0   \n\n   poutcome_failure  poutcome_nonexistent  poutcome_success  \n0                 0                     1                 0  \n1                 0                     1                 0  \n2                 0                     1                 0  \n3                 0                     1                 0  \n4                 0                     1                 0  \n\n[5 rows x 53 columns]",
      "text/html": "<div>\n<style scoped>\n    .dataframe tbody tr th:only-of-type {\n        vertical-align: middle;\n    }\n\n    .dataframe tbody tr th {\n        vertical-align: top;\n    }\n\n    .dataframe thead th {\n        text-align: right;\n    }\n</style>\n<table border=\"1\" class=\"dataframe\">\n  <thead>\n    <tr style=\"text-align: right;\">\n      <th></th>\n      <th>job_admin.</th>\n      <th>job_blue-collar</th>\n      <th>job_entrepreneur</th>\n      <th>job_housemaid</th>\n      <th>job_management</th>\n      <th>job_retired</th>\n      <th>job_self-employed</th>\n      <th>job_services</th>\n      <th>job_student</th>\n      <th>job_technician</th>\n      <th>...</th>\n      <th>month_oct</th>\n      <th>month_sep</th>\n      <th>day_of_week_fri</th>\n      <th>day_of_week_mon</th>\n      <th>day_of_week_thu</th>\n      <th>day_of_week_tue</th>\n      <th>day_of_week_wed</th>\n      <th>poutcome_failure</th>\n      <th>poutcome_nonexistent</th>\n      <th>poutcome_success</th>\n    </tr>\n  </thead>\n  <tbody>\n    <tr>\n      <th>0</th>\n      <td>0</td>\n      <td>1</td>\n      <td>0</td>\n      <td>0</td>\n      <td>0</td>\n      <td>0</td>\n      <td>0</td>\n      <td>0</td>\n      <td>0</td>\n      <td>0</td>\n      <td>...</td>\n      <td>0</td>\n      <td>0</td>\n      <td>1</td>\n      <td>0</td>\n      <td>0</td>\n      <td>0</td>\n      <td>0</td>\n      <td>0</td>\n      <td>1</td>\n      <td>0</td>\n    </tr>\n    <tr>\n      <th>1</th>\n      <td>0</td>\n      <td>0</td>\n      <td>0</td>\n      <td>0</td>\n      <td>0</td>\n      <td>0</td>\n      <td>0</td>\n      <td>1</td>\n      <td>0</td>\n      <td>0</td>\n      <td>...</td>\n      <td>0</td>\n      <td>0</td>\n      <td>1</td>\n      <td>0</td>\n      <td>0</td>\n      <td>0</td>\n      <td>0</td>\n      <td>0</td>\n      <td>1</td>\n      <td>0</td>\n    </tr>\n    <tr>\n      <th>2</th>\n      <td>0</td>\n      <td>0</td>\n      <td>0</td>\n      <td>0</td>\n      <td>0</td>\n      <td>0</td>\n      <td>0</td>\n      <td>1</td>\n      <td>0</td>\n      <td>0</td>\n      <td>...</td>\n      <td>0</td>\n      <td>0</td>\n      <td>0</td>\n      <td>0</td>\n      <td>0</td>\n      <td>0</td>\n      <td>1</td>\n      <td>0</td>\n      <td>1</td>\n      <td>0</td>\n    </tr>\n    <tr>\n      <th>3</th>\n      <td>0</td>\n      <td>0</td>\n      <td>0</td>\n      <td>0</td>\n      <td>0</td>\n      <td>0</td>\n      <td>0</td>\n      <td>1</td>\n      <td>0</td>\n      <td>0</td>\n      <td>...</td>\n      <td>0</td>\n      <td>0</td>\n      <td>1</td>\n      <td>0</td>\n      <td>0</td>\n      <td>0</td>\n      <td>0</td>\n      <td>0</td>\n      <td>1</td>\n      <td>0</td>\n    </tr>\n    <tr>\n      <th>4</th>\n      <td>1</td>\n      <td>0</td>\n      <td>0</td>\n      <td>0</td>\n      <td>0</td>\n      <td>0</td>\n      <td>0</td>\n      <td>0</td>\n      <td>0</td>\n      <td>0</td>\n      <td>...</td>\n      <td>0</td>\n      <td>0</td>\n      <td>0</td>\n      <td>1</td>\n      <td>0</td>\n      <td>0</td>\n      <td>0</td>\n      <td>0</td>\n      <td>1</td>\n      <td>0</td>\n    </tr>\n  </tbody>\n</table>\n<p>5 rows × 53 columns</p>\n</div>"
     },
     "execution_count": 15,
     "metadata": {},
     "output_type": "execute_result"
    }
   ],
   "source": [
    "df[all_categorical_columns].head()"
   ],
   "metadata": {
    "collapsed": false,
    "pycharm": {
     "name": "#%%\n"
    }
   }
  },
  {
   "cell_type": "code",
   "execution_count": 16,
   "outputs": [],
   "source": [
    "input_columns = numerical_columns + all_categorical_columns\n",
    "df_data = df[input_columns + ['OUTPUT_LABEL']]"
   ],
   "metadata": {
    "collapsed": false,
    "pycharm": {
     "name": "#%%\n"
    }
   }
  },
  {
   "cell_type": "code",
   "execution_count": 17,
   "outputs": [
    {
     "data": {
      "text/plain": "['campaign',\n 'pdays',\n 'previous',\n 'emp.var.rate',\n 'cons.price.idx',\n 'cons.conf.idx',\n 'nr.employed',\n 'age',\n 'euribor3m',\n 'job_admin.',\n 'job_blue-collar',\n 'job_entrepreneur',\n 'job_housemaid',\n 'job_management',\n 'job_retired',\n 'job_self-employed',\n 'job_services',\n 'job_student',\n 'job_technician',\n 'job_unemployed',\n 'job_unknown',\n 'marital_divorced',\n 'marital_married',\n 'marital_single',\n 'marital_unknown',\n 'education_basic.4y',\n 'education_basic.6y',\n 'education_basic.9y',\n 'education_high.school',\n 'education_illiterate',\n 'education_professional.course',\n 'education_university.degree',\n 'education_unknown',\n 'default_no',\n 'default_unknown',\n 'default_yes',\n 'housing_no',\n 'housing_unknown',\n 'housing_yes',\n 'loan_no',\n 'loan_unknown',\n 'loan_yes',\n 'contact_cellular',\n 'contact_telephone',\n 'month_apr',\n 'month_aug',\n 'month_dec',\n 'month_jul',\n 'month_jun',\n 'month_mar',\n 'month_may',\n 'month_nov',\n 'month_oct',\n 'month_sep',\n 'day_of_week_fri',\n 'day_of_week_mon',\n 'day_of_week_thu',\n 'day_of_week_tue',\n 'day_of_week_wed',\n 'poutcome_failure',\n 'poutcome_nonexistent',\n 'poutcome_success']"
     },
     "execution_count": 17,
     "metadata": {},
     "output_type": "execute_result"
    }
   ],
   "source": [
    "input_columns"
   ],
   "metadata": {
    "collapsed": false,
    "pycharm": {
     "name": "#%%\n"
    }
   }
  },
  {
   "cell_type": "code",
   "execution_count": 18,
   "outputs": [],
   "source": [
    "df_valid_test = df_data.sample(frac=0.30)"
   ],
   "metadata": {
    "collapsed": false,
    "pycharm": {
     "name": "#%%\n"
    }
   }
  },
  {
   "cell_type": "code",
   "execution_count": 19,
   "outputs": [],
   "source": [
    "df_test = df_valid_test.sample(frac=0.5)\n",
    "df_validation = df_valid_test.drop(df_test.index)"
   ],
   "metadata": {
    "collapsed": false,
    "pycharm": {
     "name": "#%%\n"
    }
   }
  },
  {
   "cell_type": "code",
   "execution_count": 20,
   "outputs": [],
   "source": [
    "df_train_all = df_data.drop(df_valid_test.index)"
   ],
   "metadata": {
    "collapsed": false,
    "pycharm": {
     "name": "#%%\n"
    }
   }
  },
  {
   "cell_type": "code",
   "execution_count": 21,
   "outputs": [],
   "source": [
    "rows_positions = df_train_all.OUTPUT_LABEL == 1\n",
    "df_train_pos = df_train_all.loc[rows_positions]\n",
    "df_train_neg = df_train_all.loc[~rows_positions]\n",
    "\n",
    "df_train = pd.concat([df_train_pos, df_train_neg.sample(n=len(df_train_pos))], axis=0)\n",
    "\n",
    "df_train = df_train.sample(n=len(df_train)).reset_index(drop=True)"
   ],
   "metadata": {
    "collapsed": false,
    "pycharm": {
     "name": "#%%\n"
    }
   }
  },
  {
   "cell_type": "code",
   "execution_count": 22,
   "outputs": [],
   "source": [
    "rows_positions = df_validation.OUTPUT_LABEL == 1\n",
    "df_valid_pos = df_validation.loc[rows_positions]\n",
    "df_valid_neg = df_validation.loc[~rows_positions]\n",
    "\n",
    "df_validation = pd.concat([df_valid_pos, df_valid_neg.sample(n=len(df_valid_pos))], axis=0)\n",
    "\n",
    "df_validation = df_validation.sample(n=len(df_validation)).reset_index(drop=True)"
   ],
   "metadata": {
    "collapsed": false,
    "pycharm": {
     "name": "#%%\n"
    }
   }
  },
  {
   "cell_type": "code",
   "execution_count": 23,
   "outputs": [],
   "source": [
    "rows_positions = df_test.OUTPUT_LABEL == 1\n",
    "df_test_pos = df_test.loc[rows_positions]\n",
    "df_test_neg = df_test.loc[~rows_positions]\n",
    "\n",
    "df_test = pd.concat([df_test_pos, df_test_neg.sample(n=len(df_test_pos))], axis=0)\n",
    "\n",
    "df_test = df_test.sample(n=len(df_test)).reset_index(drop=True)"
   ],
   "metadata": {
    "collapsed": false,
    "pycharm": {
     "name": "#%%\n"
    }
   }
  },
  {
   "cell_type": "code",
   "execution_count": 24,
   "outputs": [
    {
     "name": "stdout",
     "output_type": "stream",
     "text": [
      "Training All shapes: (2883, 62)\n",
      "Training shapes: (652, 62) (652,)\n",
      "Validation shapes: (126, 62) (126,)\n"
     ]
    }
   ],
   "source": [
    "X_train = df_train[input_columns].values\n",
    "X_train_all = df_train_all[input_columns].values\n",
    "X_valid = df_validation[input_columns].values\n",
    "\n",
    "y_train = df_train['OUTPUT_LABEL'].values\n",
    "y_validation = df_validation['OUTPUT_LABEL'].values\n",
    "\n",
    "print('Training All shapes:', X_train_all.shape)\n",
    "print('Training shapes:', X_train.shape, y_train.shape)\n",
    "print('Validation shapes:', X_valid.shape, y_validation.shape)"
   ],
   "metadata": {
    "collapsed": false,
    "pycharm": {
     "name": "#%%\n"
    }
   }
  },
  {
   "cell_type": "code",
   "execution_count": 25,
   "outputs": [
    {
     "data": {
      "text/plain": "StandardScaler()"
     },
     "execution_count": 25,
     "metadata": {},
     "output_type": "execute_result"
    }
   ],
   "source": [
    "from sklearn.preprocessing import StandardScaler\n",
    "\n",
    "scaler = StandardScaler()\n",
    "scaler.fit(X_train_all)"
   ],
   "metadata": {
    "collapsed": false,
    "pycharm": {
     "name": "#%%\n"
    }
   }
  },
  {
   "cell_type": "code",
   "execution_count": 26,
   "outputs": [
    {
     "name": "stdout",
     "output_type": "stream",
     "text": [
      "(652, 62)\n",
      "(652, 62)\n"
     ]
    }
   ],
   "source": [
    "X_train_tf = scaler.transform(X_train)\n",
    "X_valid_tf = scaler.transform(X_valid)\n",
    "\n",
    "print(X_train_tf.shape)\n",
    "print(X_train.shape)"
   ],
   "metadata": {
    "collapsed": false,
    "pycharm": {
     "name": "#%%\n"
    }
   }
  },
  {
   "cell_type": "code",
   "execution_count": 27,
   "outputs": [
    {
     "data": {
      "text/plain": "MLPClassifier(max_iter=1024)"
     },
     "execution_count": 27,
     "metadata": {},
     "output_type": "execute_result"
    }
   ],
   "source": [
    "# Artificial Neural Network\n",
    "from sklearn.neural_network import MLPClassifier\n",
    "\n",
    "# MLPClassifier\n",
    "mlp = MLPClassifier(hidden_layer_sizes=(100,), max_iter=1024)\n",
    "mlp.fit(X_train_tf, y_train)"
   ],
   "metadata": {
    "collapsed": false,
    "pycharm": {
     "name": "#%%\n"
    }
   }
  },
  {
   "cell_type": "code",
   "execution_count": 28,
   "outputs": [],
   "source": [
    "y_pred = mlp.predict(X_valid_tf)"
   ],
   "metadata": {
    "collapsed": false,
    "pycharm": {
     "name": "#%%\n"
    }
   }
  },
  {
   "cell_type": "code",
   "execution_count": 29,
   "outputs": [
    {
     "name": "stdout",
     "output_type": "stream",
     "text": [
      "              precision    recall  f1-score   support\n",
      "\n",
      "           0       0.69      0.71      0.70        63\n",
      "           1       0.70      0.68      0.69        63\n",
      "\n",
      "    accuracy                           0.70       126\n",
      "   macro avg       0.70      0.70      0.70       126\n",
      "weighted avg       0.70      0.70      0.70       126\n",
      "\n"
     ]
    }
   ],
   "source": [
    "# Classification Report\n",
    "from sklearn.metrics import classification_report\n",
    "\n",
    "print(classification_report(y_validation, y_pred))"
   ],
   "metadata": {
    "collapsed": false,
    "pycharm": {
     "name": "#%%\n"
    }
   }
  },
  {
   "cell_type": "code",
   "execution_count": 30,
   "outputs": [
    {
     "name": "stderr",
     "output_type": "stream",
     "text": [
      "D:\\Python\\Python39\\lib\\site-packages\\sklearn\\neural_network\\_multilayer_perceptron.py:692: ConvergenceWarning: Stochastic Optimizer: Maximum iterations (1024) reached and the optimization hasn't converged yet.\n",
      "  warnings.warn(\n",
      "D:\\Python\\Python39\\lib\\site-packages\\sklearn\\neural_network\\_multilayer_perceptron.py:692: ConvergenceWarning: Stochastic Optimizer: Maximum iterations (1024) reached and the optimization hasn't converged yet.\n",
      "  warnings.warn(\n"
     ]
    },
    {
     "name": "stdout",
     "output_type": "stream",
     "text": [
      "[0.6587301587301587, 0.6507936507936508, 0.6825396825396826, 0.6984126984126984, 0.6349206349206349, 0.746031746031746]\n"
     ]
    }
   ],
   "source": [
    "# Accuracy score\n",
    "from sklearn.metrics import accuracy_score\n",
    "\n",
    "scores = []\n",
    "\n",
    "# Hidden layer sizes to try\n",
    "hidden_layer_sizes = [(100,), (50,), (25,), (10,), (5,), (1,)]\n",
    "for layer_size in hidden_layer_sizes:\n",
    "    mlp = MLPClassifier(hidden_layer_sizes=layer_size, max_iter=1024)\n",
    "    mlp.fit(X_train_tf, y_train)\n",
    "    y_pred = mlp.predict(X_valid_tf)\n",
    "    scores.append(accuracy_score(y_validation, y_pred))\n",
    "print(scores)"
   ],
   "metadata": {
    "collapsed": false,
    "pycharm": {
     "name": "#%%\n"
    }
   }
  },
  {
   "cell_type": "code",
   "execution_count": 31,
   "outputs": [
    {
     "name": "stdout",
     "output_type": "stream",
     "text": [
      "Best hidden layer size: (1,)\n"
     ]
    }
   ],
   "source": [
    "# Best hidden layer size\n",
    "best_score_index = scores.index(max(scores))\n",
    "best_hidden_layer_size = hidden_layer_sizes[best_score_index]\n",
    "print('Best hidden layer size:', best_hidden_layer_size)"
   ],
   "metadata": {
    "collapsed": false,
    "pycharm": {
     "name": "#%%\n"
    }
   }
  },
  {
   "cell_type": "code",
   "execution_count": 32,
   "outputs": [
    {
     "name": "stdout",
     "output_type": "stream",
     "text": [
      "{1024: 0.6746031746031746, 2048: 0.6507936507936508, 4096: 0.6507936507936508}\n"
     ]
    }
   ],
   "source": [
    "# Fine-tuning the max_iter parameter\n",
    "\n",
    "max_iterations = [1024, 2048, 4096]\n",
    "max_iter_scores = dict()\n",
    "\n",
    "for max_iter in max_iterations:\n",
    "    mlp = MLPClassifier( max_iter=max_iter)\n",
    "    mlp.fit(X_train_tf, y_train)\n",
    "    y_pred = mlp.predict(X_valid_tf)\n",
    "    max_iter_scores[max_iter] = accuracy_score(y_validation, y_pred)\n",
    "print(max_iter_scores)"
   ],
   "metadata": {
    "collapsed": false,
    "pycharm": {
     "name": "#%%\n"
    }
   }
  },
  {
   "cell_type": "code",
   "execution_count": 33,
   "outputs": [
    {
     "name": "stderr",
     "output_type": "stream",
     "text": [
      "D:\\Python\\Python39\\lib\\site-packages\\sklearn\\neural_network\\_multilayer_perceptron.py:692: ConvergenceWarning: Stochastic Optimizer: Maximum iterations (200) reached and the optimization hasn't converged yet.\n",
      "  warnings.warn(\n"
     ]
    },
    {
     "name": "stdout",
     "output_type": "stream",
     "text": [
      "{0.001: 0.5, 0.01: 0.5873015873015873, 0.1: 0.6984126984126984, 0.2: 0.6746031746031746, 0.3: 0.7222222222222222}\n"
     ]
    }
   ],
   "source": [
    "# Fine tuning the learning rate\n",
    "\n",
    "learning_rates = [0.001, 0.01, 0.1, 0.2, 0.3]\n",
    "scores = dict()\n",
    "for learning_rate in learning_rates:\n",
    "    mlp = MLPClassifier(hidden_layer_sizes=best_hidden_layer_size, learning_rate_init=learning_rate)\n",
    "    mlp.fit(X_train_tf, y_train)\n",
    "    y_pred = mlp.predict(X_valid_tf)\n",
    "    scores[learning_rate] = accuracy_score(y_validation, y_pred)\n",
    "print(scores)"
   ],
   "metadata": {
    "collapsed": false,
    "pycharm": {
     "name": "#%%\n"
    }
   }
  },
  {
   "cell_type": "code",
   "execution_count": 34,
   "outputs": [
    {
     "name": "stdout",
     "output_type": "stream",
     "text": [
      "Best learning rate: 0.3\n"
     ]
    }
   ],
   "source": [
    "# Best learning rate\n",
    "best_learning_rate = max(scores, key=scores.get)\n",
    "print('Best learning rate:', best_learning_rate)"
   ],
   "metadata": {
    "collapsed": false,
    "pycharm": {
     "name": "#%%\n"
    }
   }
  },
  {
   "cell_type": "code",
   "execution_count": 35,
   "outputs": [
    {
     "name": "stdout",
     "output_type": "stream",
     "text": [
      "{0.0: 0.5634920634920635, 0.2: 0.7777777777777778, 0.4: 0.5555555555555556, 0.6: 0.7698412698412699, 0.8: 0.7301587301587301, 0.9: 0.6587301587301587}\n"
     ]
    }
   ],
   "source": [
    "# Fine-tuning the momentum\n",
    "\n",
    "momentums = [0.0, 0.2, 0.4, 0.6, 0.8, 0.9]\n",
    "scores = dict()\n",
    "for momentum in momentums:\n",
    "    mlp = MLPClassifier(hidden_layer_sizes=best_hidden_layer_size, learning_rate_init=best_learning_rate, momentum=momentum)\n",
    "    mlp.fit(X_train_tf, y_train)\n",
    "    y_pred = mlp.predict(X_valid_tf)\n",
    "    scores[momentum] = accuracy_score(y_validation, y_pred)\n",
    "print(scores)"
   ],
   "metadata": {
    "collapsed": false,
    "pycharm": {
     "name": "#%%\n"
    }
   }
  },
  {
   "cell_type": "code",
   "execution_count": 36,
   "outputs": [
    {
     "name": "stdout",
     "output_type": "stream",
     "text": [
      "Best momentum: 0.2\n"
     ]
    }
   ],
   "source": [
    "# Best momentum\n",
    "best_momentum = max(scores, key=scores.get)\n",
    "print('Best momentum:', best_momentum)"
   ],
   "metadata": {
    "collapsed": false,
    "pycharm": {
     "name": "#%%\n"
    }
   }
  },
  {
   "cell_type": "code",
   "execution_count": 37,
   "outputs": [
    {
     "name": "stdout",
     "output_type": "stream",
     "text": [
      "{'identity': 0.7142857142857143, 'logistic': 0.7619047619047619, 'tanh': 0.7142857142857143, 'relu': 0.6746031746031746}\n"
     ]
    }
   ],
   "source": [
    "# Fine-tuning the activation function\n",
    "\n",
    "activations = ['identity', 'logistic', 'tanh', 'relu']\n",
    "activation_scores = dict()\n",
    "\n",
    "for activation in activations:\n",
    "    mlp = MLPClassifier(hidden_layer_sizes=best_hidden_layer_size, learning_rate_init=best_learning_rate, momentum=best_momentum, activation=activation)\n",
    "    mlp.fit(X_train_tf, y_train)\n",
    "    y_pred = mlp.predict(X_valid_tf)\n",
    "    activation_scores[activation] = accuracy_score(y_validation, y_pred)\n",
    "print(activation_scores)"
   ],
   "metadata": {
    "collapsed": false,
    "pycharm": {
     "name": "#%%\n"
    }
   }
  },
  {
   "cell_type": "code",
   "execution_count": 38,
   "outputs": [
    {
     "name": "stdout",
     "output_type": "stream",
     "text": [
      "Best activation function: logistic\n"
     ]
    }
   ],
   "source": [
    "# Best activation function\n",
    "best_activation = max(activation_scores, key=activation_scores.get)\n",
    "print('Best activation function:', best_activation)"
   ],
   "metadata": {
    "collapsed": false,
    "pycharm": {
     "name": "#%%\n"
    }
   }
  },
  {
   "cell_type": "code",
   "execution_count": 39,
   "outputs": [
    {
     "name": "stdout",
     "output_type": "stream",
     "text": [
      "{32: 0.7380952380952381, 64: 0.7301587301587301, 128: 0.7698412698412699, 256: 0.753968253968254, 512: 0.7222222222222222}\n"
     ]
    }
   ],
   "source": [
    "# Fine-tuning the batch size\n",
    "\n",
    "batch_sizes = [32, 64, 128, 256, 512]\n",
    "batch_scores = dict()\n",
    "\n",
    "for batch_size in batch_sizes:\n",
    "    mlp = MLPClassifier(hidden_layer_sizes=best_hidden_layer_size, learning_rate_init=best_learning_rate, momentum=best_momentum, activation=best_activation, batch_size=batch_size)\n",
    "    mlp.fit(X_train_tf, y_train)\n",
    "    y_pred = mlp.predict(X_valid_tf)\n",
    "    batch_scores[batch_size] = accuracy_score(y_validation, y_pred)\n",
    "print(batch_scores)"
   ],
   "metadata": {
    "collapsed": false,
    "pycharm": {
     "name": "#%%\n"
    }
   }
  },
  {
   "cell_type": "code",
   "execution_count": 40,
   "outputs": [
    {
     "name": "stdout",
     "output_type": "stream",
     "text": [
      "Best batch size: 128\n"
     ]
    }
   ],
   "source": [
    "# Best batch size\n",
    "best_batch_size = max(batch_scores, key=batch_scores.get)\n",
    "print('Best batch size:', best_batch_size)"
   ],
   "metadata": {
    "collapsed": false,
    "pycharm": {
     "name": "#%%\n"
    }
   }
  },
  {
   "cell_type": "code",
   "execution_count": 41,
   "outputs": [],
   "source": [
    "# Best model\n",
    "mlp = MLPClassifier(hidden_layer_sizes=best_hidden_layer_size, max_iter=1024, learning_rate_init=best_learning_rate, momentum=best_momentum, activation=best_activation, batch_size=best_batch_size)\n",
    "mlp.fit(X_train_tf, y_train)\n",
    "y_pred = mlp.predict(X_valid_tf)"
   ],
   "metadata": {
    "collapsed": false,
    "pycharm": {
     "name": "#%%\n"
    }
   }
  },
  {
   "cell_type": "code",
   "execution_count": 42,
   "outputs": [
    {
     "name": "stdout",
     "output_type": "stream",
     "text": [
      "              precision    recall  f1-score   support\n",
      "\n",
      "           0       0.71      0.75      0.73        63\n",
      "           1       0.73      0.70      0.72        63\n",
      "\n",
      "    accuracy                           0.72       126\n",
      "   macro avg       0.72      0.72      0.72       126\n",
      "weighted avg       0.72      0.72      0.72       126\n",
      "\n"
     ]
    }
   ],
   "source": [
    "print(classification_report(y_validation, y_pred))"
   ],
   "metadata": {
    "collapsed": false,
    "pycharm": {
     "name": "#%%\n"
    }
   }
  },
  {
   "cell_type": "code",
   "execution_count": 43,
   "outputs": [],
   "source": [
    "y_train_test = mlp.predict(X_train_tf)"
   ],
   "metadata": {
    "collapsed": false,
    "pycharm": {
     "name": "#%%\n"
    }
   }
  },
  {
   "cell_type": "code",
   "execution_count": 44,
   "outputs": [
    {
     "name": "stdout",
     "output_type": "stream",
     "text": [
      "              precision    recall  f1-score   support\n",
      "\n",
      "           0       0.75      0.80      0.77       326\n",
      "           1       0.78      0.73      0.76       326\n",
      "\n",
      "    accuracy                           0.76       652\n",
      "   macro avg       0.77      0.76      0.76       652\n",
      "weighted avg       0.77      0.76      0.76       652\n",
      "\n"
     ]
    }
   ],
   "source": [
    "print(classification_report(y_train, y_train_test))"
   ],
   "metadata": {
    "collapsed": false,
    "pycharm": {
     "name": "#%%\n"
    }
   }
  },
  {
   "cell_type": "code",
   "execution_count": 45,
   "outputs": [
    {
     "name": "stdout",
     "output_type": "stream",
     "text": [
      "(4119, 75)\n",
      "<class 'pandas.core.frame.DataFrame'>\n",
      "RangeIndex: 4119 entries, 0 to 4118\n",
      "Data columns (total 75 columns):\n",
      " #   Column                         Non-Null Count  Dtype  \n",
      "---  ------                         --------------  -----  \n",
      " 0   age                            4119 non-null   int64  \n",
      " 1   job                            4119 non-null   object \n",
      " 2   marital                        4119 non-null   object \n",
      " 3   education                      4119 non-null   object \n",
      " 4   default                        4119 non-null   object \n",
      " 5   housing                        4119 non-null   object \n",
      " 6   loan                           4119 non-null   object \n",
      " 7   contact                        4119 non-null   object \n",
      " 8   month                          4119 non-null   object \n",
      " 9   day_of_week                    4119 non-null   object \n",
      " 10  duration                       4119 non-null   int64  \n",
      " 11  campaign                       4119 non-null   int64  \n",
      " 12  pdays                          4119 non-null   int64  \n",
      " 13  previous                       4119 non-null   int64  \n",
      " 14  poutcome                       4119 non-null   object \n",
      " 15  emp.var.rate                   4119 non-null   float64\n",
      " 16  cons.price.idx                 4119 non-null   float64\n",
      " 17  cons.conf.idx                  4119 non-null   float64\n",
      " 18  euribor3m                      4119 non-null   float64\n",
      " 19  nr.employed                    4119 non-null   float64\n",
      " 20  y                              4119 non-null   object \n",
      " 21  OUTPUT_LABEL                   4119 non-null   int32  \n",
      " 22  job_admin.                     4119 non-null   uint8  \n",
      " 23  job_blue-collar                4119 non-null   uint8  \n",
      " 24  job_entrepreneur               4119 non-null   uint8  \n",
      " 25  job_housemaid                  4119 non-null   uint8  \n",
      " 26  job_management                 4119 non-null   uint8  \n",
      " 27  job_retired                    4119 non-null   uint8  \n",
      " 28  job_self-employed              4119 non-null   uint8  \n",
      " 29  job_services                   4119 non-null   uint8  \n",
      " 30  job_student                    4119 non-null   uint8  \n",
      " 31  job_technician                 4119 non-null   uint8  \n",
      " 32  job_unemployed                 4119 non-null   uint8  \n",
      " 33  job_unknown                    4119 non-null   uint8  \n",
      " 34  marital_divorced               4119 non-null   uint8  \n",
      " 35  marital_married                4119 non-null   uint8  \n",
      " 36  marital_single                 4119 non-null   uint8  \n",
      " 37  marital_unknown                4119 non-null   uint8  \n",
      " 38  education_basic.4y             4119 non-null   uint8  \n",
      " 39  education_basic.6y             4119 non-null   uint8  \n",
      " 40  education_basic.9y             4119 non-null   uint8  \n",
      " 41  education_high.school          4119 non-null   uint8  \n",
      " 42  education_illiterate           4119 non-null   uint8  \n",
      " 43  education_professional.course  4119 non-null   uint8  \n",
      " 44  education_university.degree    4119 non-null   uint8  \n",
      " 45  education_unknown              4119 non-null   uint8  \n",
      " 46  default_no                     4119 non-null   uint8  \n",
      " 47  default_unknown                4119 non-null   uint8  \n",
      " 48  default_yes                    4119 non-null   uint8  \n",
      " 49  housing_no                     4119 non-null   uint8  \n",
      " 50  housing_unknown                4119 non-null   uint8  \n",
      " 51  housing_yes                    4119 non-null   uint8  \n",
      " 52  loan_no                        4119 non-null   uint8  \n",
      " 53  loan_unknown                   4119 non-null   uint8  \n",
      " 54  loan_yes                       4119 non-null   uint8  \n",
      " 55  contact_cellular               4119 non-null   uint8  \n",
      " 56  contact_telephone              4119 non-null   uint8  \n",
      " 57  month_apr                      4119 non-null   uint8  \n",
      " 58  month_aug                      4119 non-null   uint8  \n",
      " 59  month_dec                      4119 non-null   uint8  \n",
      " 60  month_jul                      4119 non-null   uint8  \n",
      " 61  month_jun                      4119 non-null   uint8  \n",
      " 62  month_mar                      4119 non-null   uint8  \n",
      " 63  month_may                      4119 non-null   uint8  \n",
      " 64  month_nov                      4119 non-null   uint8  \n",
      " 65  month_oct                      4119 non-null   uint8  \n",
      " 66  month_sep                      4119 non-null   uint8  \n",
      " 67  day_of_week_fri                4119 non-null   uint8  \n",
      " 68  day_of_week_mon                4119 non-null   uint8  \n",
      " 69  day_of_week_thu                4119 non-null   uint8  \n",
      " 70  day_of_week_tue                4119 non-null   uint8  \n",
      " 71  day_of_week_wed                4119 non-null   uint8  \n",
      " 72  poutcome_failure               4119 non-null   uint8  \n",
      " 73  poutcome_nonexistent           4119 non-null   uint8  \n",
      " 74  poutcome_success               4119 non-null   uint8  \n",
      "dtypes: float64(5), int32(1), int64(5), object(11), uint8(53)\n",
      "memory usage: 905.2+ KB\n",
      "None\n"
     ]
    }
   ],
   "source": [
    "df_regression = pd.read_csv('FuelConsumption.csv')\n",
    "print(df.shape)\n",
    "print(df.info())"
   ],
   "metadata": {
    "collapsed": false,
    "pycharm": {
     "name": "#%%\n"
    }
   }
  },
  {
   "cell_type": "code",
   "execution_count": 46,
   "outputs": [
    {
     "data": {
      "text/plain": "   ENGINESIZE  CYLINDERS  FUELCONSUMPTION_CITY  FUELCONSUMPTION_HWY  \\\n0         2.0          4                   9.9                  6.7   \n1         2.4          4                  11.2                  7.7   \n2         1.5          4                   6.0                  5.8   \n3         3.5          6                  12.7                  9.1   \n4         3.5          6                  12.1                  8.7   \n5         3.5          6                  11.9                  7.7   \n6         3.5          6                  11.8                  8.1   \n7         3.7          6                  12.8                  9.0   \n8         3.7          6                  13.4                  9.5   \n\n   FUELCONSUMPTION_COMB  CO2EMISSIONS  \n0                   8.5           196  \n1                   9.6           221  \n2                   5.9           136  \n3                  11.1           255  \n4                  10.6           244  \n5                  10.0           230  \n6                  10.1           232  \n7                  11.1           255  \n8                  11.6           267  ",
      "text/html": "<div>\n<style scoped>\n    .dataframe tbody tr th:only-of-type {\n        vertical-align: middle;\n    }\n\n    .dataframe tbody tr th {\n        vertical-align: top;\n    }\n\n    .dataframe thead th {\n        text-align: right;\n    }\n</style>\n<table border=\"1\" class=\"dataframe\">\n  <thead>\n    <tr style=\"text-align: right;\">\n      <th></th>\n      <th>ENGINESIZE</th>\n      <th>CYLINDERS</th>\n      <th>FUELCONSUMPTION_CITY</th>\n      <th>FUELCONSUMPTION_HWY</th>\n      <th>FUELCONSUMPTION_COMB</th>\n      <th>CO2EMISSIONS</th>\n    </tr>\n  </thead>\n  <tbody>\n    <tr>\n      <th>0</th>\n      <td>2.0</td>\n      <td>4</td>\n      <td>9.9</td>\n      <td>6.7</td>\n      <td>8.5</td>\n      <td>196</td>\n    </tr>\n    <tr>\n      <th>1</th>\n      <td>2.4</td>\n      <td>4</td>\n      <td>11.2</td>\n      <td>7.7</td>\n      <td>9.6</td>\n      <td>221</td>\n    </tr>\n    <tr>\n      <th>2</th>\n      <td>1.5</td>\n      <td>4</td>\n      <td>6.0</td>\n      <td>5.8</td>\n      <td>5.9</td>\n      <td>136</td>\n    </tr>\n    <tr>\n      <th>3</th>\n      <td>3.5</td>\n      <td>6</td>\n      <td>12.7</td>\n      <td>9.1</td>\n      <td>11.1</td>\n      <td>255</td>\n    </tr>\n    <tr>\n      <th>4</th>\n      <td>3.5</td>\n      <td>6</td>\n      <td>12.1</td>\n      <td>8.7</td>\n      <td>10.6</td>\n      <td>244</td>\n    </tr>\n    <tr>\n      <th>5</th>\n      <td>3.5</td>\n      <td>6</td>\n      <td>11.9</td>\n      <td>7.7</td>\n      <td>10.0</td>\n      <td>230</td>\n    </tr>\n    <tr>\n      <th>6</th>\n      <td>3.5</td>\n      <td>6</td>\n      <td>11.8</td>\n      <td>8.1</td>\n      <td>10.1</td>\n      <td>232</td>\n    </tr>\n    <tr>\n      <th>7</th>\n      <td>3.7</td>\n      <td>6</td>\n      <td>12.8</td>\n      <td>9.0</td>\n      <td>11.1</td>\n      <td>255</td>\n    </tr>\n    <tr>\n      <th>8</th>\n      <td>3.7</td>\n      <td>6</td>\n      <td>13.4</td>\n      <td>9.5</td>\n      <td>11.6</td>\n      <td>267</td>\n    </tr>\n  </tbody>\n</table>\n</div>"
     },
     "execution_count": 46,
     "metadata": {},
     "output_type": "execute_result"
    }
   ],
   "source": [
    "cdf = df_regression[['ENGINESIZE','CYLINDERS','FUELCONSUMPTION_CITY','FUELCONSUMPTION_HWY','FUELCONSUMPTION_COMB','CO2EMISSIONS']]\n",
    "cdf.head(9)"
   ],
   "metadata": {
    "collapsed": false,
    "pycharm": {
     "name": "#%%\n"
    }
   }
  },
  {
   "cell_type": "code",
   "execution_count": 48,
   "outputs": [
    {
     "name": "stdout",
     "output_type": "stream",
     "text": [
      "(1067, 3)\n",
      "(1067, 1)\n"
     ]
    }
   ],
   "source": [
    "import numpy as np\n",
    "train_x_reg = np.asanyarray(cdf[['ENGINESIZE','CYLINDERS','FUELCONSUMPTION_COMB']])\n",
    "train_y_reg = np.asanyarray(cdf[['CO2EMISSIONS']])\n",
    "\n",
    "print(train_x_reg.shape)\n",
    "print(train_y_reg.shape)"
   ],
   "metadata": {
    "collapsed": false,
    "pycharm": {
     "name": "#%%\n"
    }
   }
  },
  {
   "cell_type": "code",
   "execution_count": 49,
   "outputs": [],
   "source": [
    "from sklearn.preprocessing import MinMaxScaler\n",
    "\n",
    "ms = MinMaxScaler()\n",
    "train_x_reg = ms.fit_transform(train_x_reg)"
   ],
   "metadata": {
    "collapsed": false,
    "pycharm": {
     "name": "#%%\n"
    }
   }
  },
  {
   "cell_type": "code",
   "execution_count": 50,
   "outputs": [
    {
     "name": "stderr",
     "output_type": "stream",
     "text": [
      "D:\\Python\\Python39\\lib\\site-packages\\sklearn\\neural_network\\_multilayer_perceptron.py:1599: DataConversionWarning: A column-vector y was passed when a 1d array was expected. Please change the shape of y to (n_samples, ), for example using ravel().\n",
      "  y = column_or_1d(y, warn=True)\n"
     ]
    },
    {
     "data": {
      "text/plain": "MLPRegressor(batch_size=64, hidden_layer_sizes=(100, 100, 100, 100, 100),\n             max_iter=1024)"
     },
     "execution_count": 50,
     "metadata": {},
     "output_type": "execute_result"
    }
   ],
   "source": [
    "from sklearn.neural_network import MLPRegressor\n",
    "\n",
    "# MLP Regression\n",
    "mlp_reg = MLPRegressor(hidden_layer_sizes=(100,100,100,100,100), max_iter=1024, learning_rate_init=0.001, momentum=0.9, activation='relu', batch_size=64)\n",
    "mlp_reg.fit(train_x_reg, train_y_reg)"
   ],
   "metadata": {
    "collapsed": false,
    "pycharm": {
     "name": "#%%\n"
    }
   }
  },
  {
   "cell_type": "code",
   "execution_count": 51,
   "outputs": [
    {
     "name": "stdout",
     "output_type": "stream",
     "text": [
      "Predicted: 194.344340, Actual: 196.000000\n",
      "Predicted: 218.446853, Actual: 221.000000\n",
      "Predicted: 137.162218, Actual: 136.000000\n",
      "Predicted: 252.890950, Actual: 255.000000\n",
      "Predicted: 241.898617, Actual: 244.000000\n",
      "Predicted: 228.707816, Actual: 230.000000\n",
      "Predicted: 230.906283, Actual: 232.000000\n",
      "Predicted: 252.866691, Actual: 255.000000\n",
      "Predicted: 263.860580, Actual: 267.000000\n",
      "Predicted: 209.643326, Actual: 212.000000\n",
      "Predicted: 222.848617, Actual: 225.000000\n",
      "Predicted: 237.501683, Actual: 239.000000\n",
      "Predicted: 358.282363, Actual: 359.000000\n",
      "Predicted: 358.282363, Actual: 359.000000\n",
      "Predicted: 333.979539, Actual: 338.000000\n",
      "Predicted: 345.516535, Actual: 354.000000\n",
      "Predicted: 333.979539, Actual: 338.000000\n",
      "Predicted: 345.516535, Actual: 354.000000\n",
      "Predicted: 358.282363, Actual: 359.000000\n",
      "Predicted: 200.946986, Actual: 202.000000\n",
      "Predicted: 225.933397, Actual: 230.000000\n",
      "Predicted: 211.951394, Actual: 214.000000\n",
      "Predicted: 225.933397, Actual: 230.000000\n",
      "Predicted: 225.933397, Actual: 230.000000\n",
      "Predicted: 211.951394, Actual: 214.000000\n",
      "Predicted: 227.993513, Actual: 235.000000\n",
      "Predicted: 248.591047, Actual: 251.000000\n",
      "Predicted: 191.430913, Actual: 224.000000\n",
      "Predicted: 255.186448, Actual: 258.000000\n",
      "Predicted: 191.430913, Actual: 224.000000\n",
      "Predicted: 255.186448, Actual: 258.000000\n",
      "Predicted: 259.298408, Actual: 260.000000\n",
      "Predicted: 193.629379, Actual: 227.000000\n",
      "Predicted: 255.186448, Actual: 258.000000\n",
      "Predicted: 285.683742, Actual: 288.000000\n",
      "Predicted: 360.754080, Actual: 361.000000\n",
      "Predicted: 195.827846, Actual: 230.000000\n",
      "Predicted: 231.083689, Actual: 242.000000\n",
      "Predicted: 230.053630, Actual: 239.000000\n",
      "Predicted: 255.186448, Actual: 258.000000\n",
      "Predicted: 209.750512, Actual: 212.000000\n",
      "Predicted: 209.018647, Actual: 246.000000\n",
      "Predicted: 273.473953, Actual: 304.000000\n",
      "Predicted: 248.591047, Actual: 294.000000\n",
      "Predicted: 330.151306, Actual: 336.000000\n",
      "Predicted: 327.722646, Actual: 407.000000\n",
      "Predicted: 351.041351, Actual: 354.000000\n",
      "Predicted: 390.852919, Actual: 409.000000\n",
      "Predicted: 330.151306, Actual: 336.000000\n",
      "Predicted: 327.722646, Actual: 407.000000\n",
      "Predicted: 351.041351, Actual: 354.000000\n",
      "Predicted: 390.852919, Actual: 409.000000\n",
      "Predicted: 303.266844, Actual: 306.000000\n",
      "Predicted: 305.465622, Actual: 308.000000\n",
      "Predicted: 287.882520, Actual: 290.000000\n",
      "Predicted: 259.583381, Actual: 262.000000\n",
      "Predicted: 275.498184, Actual: 285.000000\n",
      "Predicted: 259.583381, Actual: 262.000000\n",
      "Predicted: 275.498184, Actual: 285.000000\n",
      "Predicted: 263.980314, Actual: 267.000000\n",
      "Predicted: 279.087409, Actual: 281.000000\n",
      "Predicted: 279.087409, Actual: 281.000000\n",
      "Predicted: 294.478854, Actual: 297.000000\n",
      "Predicted: 274.771153, Actual: 292.000000\n",
      "Predicted: 207.549631, Actual: 209.000000\n",
      "Predicted: 207.549631, Actual: 209.000000\n",
      "Predicted: 229.023572, Actual: 237.000000\n",
      "Predicted: 229.023572, Actual: 237.000000\n",
      "Predicted: 294.478854, Actual: 297.000000\n",
      "Predicted: 356.107344, Actual: 356.000000\n",
      "Predicted: 316.228787, Actual: 320.000000\n",
      "Predicted: 377.581057, Actual: 380.000000\n",
      "Predicted: 318.106245, Actual: 322.000000\n",
      "Predicted: 377.581057, Actual: 380.000000\n",
      "Predicted: 377.581057, Actual: 380.000000\n",
      "Predicted: 385.690908, Actual: 437.000000\n",
      "Predicted: 192.143459, Actual: 193.000000\n",
      "Predicted: 198.746104, Actual: 200.000000\n",
      "Predicted: 200.946986, Actual: 202.000000\n",
      "Predicted: 154.728469, Actual: 181.000000\n",
      "Predicted: 154.728469, Actual: 181.000000\n",
      "Predicted: 192.143459, Actual: 193.000000\n",
      "Predicted: 198.746104, Actual: 200.000000\n",
      "Predicted: 207.549631, Actual: 209.000000\n",
      "Predicted: 207.549631, Actual: 209.000000\n",
      "Predicted: 207.549631, Actual: 209.000000\n",
      "Predicted: 220.010980, Actual: 221.000000\n",
      "Predicted: 228.804847, Actual: 230.000000\n",
      "Predicted: 226.606380, Actual: 228.000000\n",
      "Predicted: 235.400247, Actual: 237.000000\n",
      "Predicted: 231.003314, Actual: 232.000000\n",
      "Predicted: 192.143459, Actual: 193.000000\n",
      "Predicted: 198.746104, Actual: 200.000000\n",
      "Predicted: 207.549631, Actual: 209.000000\n",
      "Predicted: 220.010980, Actual: 221.000000\n",
      "Predicted: 228.804847, Actual: 230.000000\n",
      "Predicted: 226.606380, Actual: 228.000000\n",
      "Predicted: 235.400247, Actual: 237.000000\n",
      "Predicted: 200.946986, Actual: 202.000000\n",
      "Predicted: 207.549631, Actual: 209.000000\n",
      "Predicted: 182.637046, Actual: 213.000000\n",
      "Predicted: 231.003314, Actual: 232.000000\n",
      "Predicted: 244.194114, Actual: 246.000000\n",
      "Predicted: 279.073167, Actual: 281.000000\n",
      "Predicted: 290.067056, Actual: 292.000000\n",
      "Predicted: 231.003314, Actual: 232.000000\n",
      "Predicted: 290.067056, Actual: 292.000000\n",
      "Predicted: 279.073167, Actual: 281.000000\n",
      "Predicted: 290.067056, Actual: 292.000000\n",
      "Predicted: 244.194114, Actual: 246.000000\n",
      "Predicted: 290.067056, Actual: 292.000000\n",
      "Predicted: 290.067056, Actual: 292.000000\n",
      "Predicted: 356.107344, Actual: 356.000000\n",
      "Predicted: 191.430913, Actual: 191.000000\n",
      "Predicted: 213.415580, Actual: 214.000000\n",
      "Predicted: 211.217113, Actual: 212.000000\n",
      "Predicted: 290.067056, Actual: 292.000000\n",
      "Predicted: 290.067056, Actual: 292.000000\n",
      "Predicted: 332.809074, Actual: 338.000000\n",
      "Predicted: 314.253613, Actual: 317.000000\n",
      "Predicted: 332.809074, Actual: 338.000000\n",
      "Predicted: 314.253613, Actual: 317.000000\n",
      "Predicted: 332.809074, Actual: 338.000000\n",
      "Predicted: 314.253613, Actual: 317.000000\n",
      "Predicted: 332.809074, Actual: 338.000000\n",
      "Predicted: 314.253613, Actual: 317.000000\n",
      "Predicted: 207.549631, Actual: 209.000000\n",
      "Predicted: 257.384914, Actual: 260.000000\n",
      "Predicted: 225.933397, Actual: 230.000000\n",
      "Predicted: 250.789514, Actual: 253.000000\n",
      "Predicted: 252.987981, Actual: 255.000000\n",
      "Predicted: 316.452390, Actual: 320.000000\n",
      "Predicted: 336.795539, Actual: 370.000000\n",
      "Predicted: 270.575715, Actual: 274.000000\n",
      "Predicted: 320.849946, Actual: 324.000000\n",
      "Predicted: 207.549631, Actual: 209.000000\n",
      "Predicted: 198.746104, Actual: 200.000000\n",
      "Predicted: 274.585886, Actual: 278.000000\n",
      "Predicted: 250.789514, Actual: 253.000000\n",
      "Predicted: 274.585886, Actual: 278.000000\n",
      "Predicted: 279.255586, Actual: 283.000000\n",
      "Predicted: 284.876101, Actual: 290.000000\n",
      "Predicted: 194.505120, Actual: 196.000000\n",
      "Predicted: 209.911292, Actual: 212.000000\n",
      "Predicted: 261.665411, Actual: 264.000000\n",
      "Predicted: 278.761581, Actual: 250.000000\n",
      "Predicted: 261.665411, Actual: 264.000000\n",
      "Predicted: 277.800788, Actual: 264.000000\n",
      "Predicted: 187.634509, Actual: 189.000000\n",
      "Predicted: 224.903338, Actual: 228.000000\n",
      "Predicted: 222.955803, Actual: 225.000000\n",
      "Predicted: 233.143805, Actual: 246.000000\n",
      "Predicted: 187.634509, Actual: 189.000000\n",
      "Predicted: 224.903338, Actual: 228.000000\n",
      "Predicted: 222.955803, Actual: 225.000000\n",
      "Predicted: 216.245972, Actual: 218.000000\n",
      "Predicted: 218.554039, Actual: 221.000000\n",
      "Predicted: 227.993513, Actual: 235.000000\n",
      "Predicted: 205.214766, Actual: 207.000000\n",
      "Predicted: 248.474611, Actual: 251.000000\n",
      "Predicted: 226.963455, Actual: 232.000000\n",
      "Predicted: 257.268477, Actual: 260.000000\n",
      "Predicted: 255.070011, Actual: 258.000000\n",
      "Predicted: 259.466944, Actual: 262.000000\n",
      "Predicted: 226.963455, Actual: 232.000000\n",
      "Predicted: 246.276144, Actual: 248.000000\n",
      "Predicted: 234.173864, Actual: 248.000000\n",
      "Predicted: 257.268477, Actual: 260.000000\n",
      "Predicted: 286.006356, Actual: 294.000000\n",
      "Predicted: 250.789514, Actual: 253.000000\n",
      "Predicted: 257.268477, Actual: 260.000000\n",
      "Predicted: 252.987981, Actual: 255.000000\n",
      "Predicted: 259.466944, Actual: 262.000000\n",
      "Predicted: 374.825215, Actual: 382.000000\n",
      "Predicted: 336.177302, Actual: 340.000000\n",
      "Predicted: 374.825215, Actual: 382.000000\n",
      "Predicted: 336.177302, Actual: 340.000000\n",
      "Predicted: 374.825215, Actual: 382.000000\n",
      "Predicted: 336.177302, Actual: 340.000000\n",
      "Predicted: 333.978524, Actual: 338.000000\n",
      "Predicted: 369.788711, Actual: 322.000000\n",
      "Predicted: 371.581954, Actual: 377.000000\n",
      "Predicted: 367.026464, Actual: 354.000000\n",
      "Predicted: 279.255586, Actual: 283.000000\n",
      "Predicted: 286.006356, Actual: 294.000000\n",
      "Predicted: 259.466944, Actual: 262.000000\n",
      "Predicted: 268.261697, Actual: 271.000000\n",
      "Predicted: 284.876101, Actual: 290.000000\n",
      "Predicted: 255.070011, Actual: 258.000000\n",
      "Predicted: 266.062919, Actual: 269.000000\n",
      "Predicted: 239.680744, Actual: 242.000000\n",
      "Predicted: 292.201745, Actual: 294.000000\n",
      "Predicted: 290.002967, Actual: 292.000000\n",
      "Predicted: 374.825215, Actual: 382.000000\n",
      "Predicted: 336.177302, Actual: 340.000000\n",
      "Predicted: 274.611522, Actual: 276.000000\n",
      "Predicted: 257.021299, Actual: 258.000000\n",
      "Predicted: 179.098947, Actual: 179.000000\n",
      "Predicted: 179.098947, Actual: 179.000000\n",
      "Predicted: 201.000579, Actual: 202.000000\n",
      "Predicted: 187.795288, Actual: 189.000000\n",
      "Predicted: 163.531996, Actual: 192.000000\n",
      "Predicted: 176.898066, Actual: 177.000000\n",
      "Predicted: 163.692775, Actual: 163.000000\n",
      "Predicted: 207.442445, Actual: 209.000000\n",
      "Predicted: 272.659252, Actual: 276.000000\n",
      "Predicted: 277.892875, Actual: 259.000000\n",
      "Predicted: 227.250380, Actual: 230.000000\n",
      "Predicted: 284.876101, Actual: 290.000000\n",
      "Predicted: 277.647309, Actual: 272.000000\n",
      "Predicted: 295.855329, Actual: 347.000000\n",
      "Predicted: 357.299984, Actual: 366.000000\n",
      "Predicted: 347.425736, Actual: 334.000000\n",
      "Predicted: 355.775230, Actual: 380.000000\n",
      "Predicted: 346.883169, Actual: 344.000000\n",
      "Predicted: 355.775230, Actual: 380.000000\n",
      "Predicted: 346.883169, Actual: 344.000000\n",
      "Predicted: 355.775230, Actual: 380.000000\n",
      "Predicted: 345.888462, Actual: 362.000000\n",
      "Predicted: 355.775230, Actual: 380.000000\n",
      "Predicted: 346.883169, Actual: 344.000000\n",
      "Predicted: 355.775230, Actual: 380.000000\n",
      "Predicted: 345.888462, Actual: 362.000000\n",
      "Predicted: 340.279948, Actual: 414.000000\n",
      "Predicted: 366.914491, Actual: 432.000000\n",
      "Predicted: 359.174203, Actual: 411.000000\n",
      "Predicted: 339.704992, Actual: 419.000000\n",
      "Predicted: 366.744826, Actual: 435.000000\n",
      "Predicted: 359.083775, Actual: 413.000000\n",
      "Predicted: 218.420057, Actual: 221.000000\n",
      "Predicted: 241.879210, Actual: 244.000000\n",
      "Predicted: 282.498794, Actual: 229.000000\n",
      "Predicted: 198.638918, Actual: 200.000000\n",
      "Predicted: 224.903338, Actual: 228.000000\n",
      "Predicted: 183.205949, Actual: 184.000000\n",
      "Predicted: 236.328704, Actual: 244.000000\n",
      "Predicted: 231.652144, Actual: 235.000000\n",
      "Predicted: 268.236773, Actual: 271.000000\n",
      "Predicted: 290.968203, Actual: 269.000000\n",
      "Predicted: 290.035011, Actual: 292.000000\n",
      "Predicted: 354.625318, Actual: 270.000000\n",
      "Predicted: 320.785857, Actual: 324.000000\n",
      "Predicted: 285.826996, Actual: 290.000000\n",
      "Predicted: 289.056956, Actual: 285.000000\n",
      "Predicted: 296.631345, Actual: 299.000000\n",
      "Predicted: 353.475406, Actual: 277.000000\n",
      "Predicted: 325.183413, Actual: 329.000000\n",
      "Predicted: 183.500711, Actual: 184.000000\n",
      "Predicted: 172.496302, Actual: 173.000000\n",
      "Predicted: 189.996170, Actual: 191.000000\n",
      "Predicted: 181.192643, Actual: 182.000000\n",
      "Predicted: 183.500711, Actual: 184.000000\n",
      "Predicted: 172.496302, Actual: 172.000000\n",
      "Predicted: 189.996170, Actual: 191.000000\n",
      "Predicted: 181.192643, Actual: 182.000000\n",
      "Predicted: 190.103356, Actual: 191.000000\n",
      "Predicted: 181.299829, Actual: 182.000000\n",
      "Predicted: 190.103356, Actual: 191.000000\n",
      "Predicted: 181.299829, Actual: 182.000000\n",
      "Predicted: 159.344605, Actual: 159.000000\n",
      "Predicted: 159.344605, Actual: 159.000000\n",
      "Predicted: 314.221568, Actual: 317.000000\n",
      "Predicted: 350.967932, Actual: 294.000000\n",
      "Predicted: 314.221568, Actual: 317.000000\n",
      "Predicted: 350.967932, Actual: 294.000000\n",
      "Predicted: 314.221568, Actual: 317.000000\n",
      "Predicted: 350.967932, Actual: 294.000000\n",
      "Predicted: 314.221568, Actual: 317.000000\n",
      "Predicted: 350.967932, Actual: 294.000000\n",
      "Predicted: 279.255586, Actual: 283.000000\n",
      "Predicted: 284.876101, Actual: 290.000000\n",
      "Predicted: 192.304238, Actual: 193.000000\n",
      "Predicted: 185.701593, Actual: 186.000000\n",
      "Predicted: 205.509528, Actual: 207.000000\n",
      "Predicted: 235.283810, Actual: 237.000000\n",
      "Predicted: 229.451262, Actual: 232.000000\n",
      "Predicted: 237.358762, Actual: 246.000000\n",
      "Predicted: 239.680744, Actual: 242.000000\n",
      "Predicted: 282.211316, Actual: 230.000000\n",
      "Predicted: 222.848617, Actual: 225.000000\n",
      "Predicted: 227.250380, Actual: 230.000000\n",
      "Predicted: 239.680744, Actual: 242.000000\n",
      "Predicted: 282.211316, Actual: 230.000000\n",
      "Predicted: 292.219547, Actual: 294.000000\n",
      "Predicted: 248.474611, Actual: 251.000000\n",
      "Predicted: 305.412214, Actual: 308.000000\n",
      "Predicted: 248.474611, Actual: 251.000000\n",
      "Predicted: 281.061404, Actual: 237.000000\n",
      "Predicted: 235.283810, Actual: 237.000000\n",
      "Predicted: 283.648706, Actual: 222.000000\n",
      "Predicted: 314.182402, Actual: 317.000000\n",
      "Predicted: 272.659252, Actual: 276.000000\n",
      "Predicted: 277.708701, Actual: 269.000000\n",
      "Predicted: 222.848617, Actual: 225.000000\n",
      "Predicted: 227.250380, Actual: 230.000000\n",
      "Predicted: 239.680744, Actual: 242.000000\n",
      "Predicted: 282.211316, Actual: 230.000000\n",
      "Predicted: 255.070011, Actual: 258.000000\n",
      "Predicted: 298.815881, Actual: 301.000000\n",
      "Predicted: 292.219547, Actual: 294.000000\n",
      "Predicted: 316.381180, Actual: 320.000000\n",
      "Predicted: 314.182402, Actual: 317.000000\n",
      "Predicted: 255.070011, Actual: 258.000000\n",
      "Predicted: 235.283810, Actual: 237.000000\n",
      "Predicted: 292.219547, Actual: 294.000000\n",
      "Predicted: 248.474611, Actual: 251.000000\n",
      "Predicted: 305.412214, Actual: 308.000000\n",
      "Predicted: 248.474611, Actual: 251.000000\n",
      "Predicted: 281.061404, Actual: 237.000000\n",
      "Predicted: 255.070011, Actual: 258.000000\n",
      "Predicted: 278.474103, Actual: 251.000000\n",
      "Predicted: 233.085344, Actual: 235.000000\n",
      "Predicted: 283.648706, Actual: 222.000000\n",
      "Predicted: 314.182402, Actual: 317.000000\n",
      "Predicted: 185.540813, Actual: 186.000000\n",
      "Predicted: 196.438036, Actual: 198.000000\n",
      "Predicted: 200.839799, Actual: 202.000000\n",
      "Predicted: 196.545222, Actual: 198.000000\n",
      "Predicted: 239.250877, Actual: 195.000000\n",
      "Predicted: 209.643326, Actual: 212.000000\n",
      "Predicted: 200.839799, Actual: 202.000000\n",
      "Predicted: 168.094539, Actual: 168.000000\n",
      "Predicted: 168.094539, Actual: 168.000000\n",
      "Predicted: 327.399993, Actual: 331.000000\n",
      "Predicted: 274.858030, Actual: 278.000000\n",
      "Predicted: 278.761581, Actual: 250.000000\n",
      "Predicted: 268.261697, Actual: 271.000000\n",
      "Predicted: 277.800788, Actual: 264.000000\n",
      "Predicted: 241.478996, Actual: 255.000000\n",
      "Predicted: 281.454364, Actual: 285.000000\n",
      "Predicted: 272.659252, Actual: 276.000000\n",
      "Predicted: 277.892875, Actual: 259.000000\n",
      "Predicted: 179.098947, Actual: 179.000000\n",
      "Predicted: 179.098947, Actual: 179.000000\n",
      "Predicted: 181.299829, Actual: 182.000000\n",
      "Predicted: 165.893657, Actual: 166.000000\n",
      "Predicted: 179.098947, Actual: 179.000000\n",
      "Predicted: 181.299829, Actual: 182.000000\n",
      "Predicted: 157.090130, Actual: 156.000000\n",
      "Predicted: 179.098947, Actual: 179.000000\n",
      "Predicted: 198.906883, Actual: 200.000000\n",
      "Predicted: 192.304238, Actual: 193.000000\n",
      "Predicted: 139.225417, Actual: 138.000000\n",
      "Predicted: 340.981306, Actual: 373.000000\n",
      "Predicted: 330.432453, Actual: 350.000000\n",
      "Predicted: 355.999507, Actual: 396.000000\n",
      "Predicted: 348.277319, Actual: 360.000000\n",
      "Predicted: 339.256438, Actual: 386.000000\n",
      "Predicted: 329.437746, Actual: 368.000000\n",
      "Predicted: 424.002303, Actual: 488.000000\n",
      "Predicted: 353.512627, Actual: 421.000000\n",
      "Predicted: 347.011329, Actual: 382.000000\n",
      "Predicted: 222.955803, Actual: 225.000000\n",
      "Predicted: 246.295550, Actual: 248.000000\n",
      "Predicted: 261.684817, Actual: 264.000000\n",
      "Predicted: 277.053248, Actual: 281.000000\n",
      "Predicted: 207.656817, Actual: 209.000000\n",
      "Predicted: 218.554039, Actual: 221.000000\n",
      "Predicted: 214.018293, Actual: 216.000000\n",
      "Predicted: 212.058580, Actual: 214.000000\n",
      "Predicted: 225.933397, Actual: 230.000000\n",
      "Predicted: 359.309960, Actual: 368.000000\n",
      "Predicted: 349.091170, Actual: 346.000000\n",
      "Predicted: 227.993513, Actual: 235.000000\n",
      "Predicted: 283.977986, Actual: 299.000000\n",
      "Predicted: 270.478684, Actual: 274.000000\n",
      "Predicted: 276.769109, Actual: 254.000000\n",
      "Predicted: 283.033822, Actual: 288.000000\n",
      "Predicted: 276.365469, Actual: 267.000000\n",
      "Predicted: 284.156625, Actual: 292.000000\n",
      "Predicted: 284.429893, Actual: 294.000000\n",
      "Predicted: 360.483939, Actual: 366.000000\n",
      "Predicted: 281.804181, Actual: 317.000000\n",
      "Predicted: 282.968246, Actual: 308.000000\n",
      "Predicted: 373.902501, Actual: 402.000000\n",
      "Predicted: 279.252026, Actual: 283.000000\n",
      "Predicted: 279.174716, Actual: 264.000000\n",
      "Predicted: 279.252026, Actual: 283.000000\n",
      "Predicted: 279.174716, Actual: 264.000000\n",
      "Predicted: 331.822472, Actual: 336.000000\n",
      "Predicted: 341.699271, Actual: 315.000000\n",
      "Predicted: 331.822472, Actual: 336.000000\n",
      "Predicted: 341.699271, Actual: 315.000000\n",
      "Predicted: 287.268341, Actual: 308.000000\n",
      "Predicted: 279.039680, Actual: 288.000000\n",
      "Predicted: 287.268341, Actual: 308.000000\n",
      "Predicted: 279.039680, Actual: 288.000000\n",
      "Predicted: 338.418806, Actual: 343.000000\n",
      "Predicted: 341.344299, Actual: 320.000000\n",
      "Predicted: 336.220028, Actual: 340.000000\n",
      "Predicted: 341.434727, Actual: 318.000000\n",
      "Predicted: 373.021866, Actual: 414.000000\n",
      "Predicted: 174.643591, Actual: 175.000000\n",
      "Predicted: 174.643591, Actual: 175.000000\n",
      "Predicted: 152.962468, Actual: 152.000000\n",
      "Predicted: 161.438300, Actual: 161.000000\n",
      "Predicted: 183.447118, Actual: 184.000000\n",
      "Predicted: 261.684817, Actual: 264.000000\n",
      "Predicted: 274.875617, Actual: 278.000000\n",
      "Predicted: 284.429893, Actual: 294.000000\n",
      "Predicted: 203.147867, Actual: 205.000000\n",
      "Predicted: 176.737286, Actual: 177.000000\n",
      "Predicted: 229.023572, Actual: 165.000000\n",
      "Predicted: 178.938168, Actual: 179.000000\n",
      "Predicted: 229.023572, Actual: 165.000000\n",
      "Predicted: 183.339932, Actual: 184.000000\n",
      "Predicted: 232.113747, Actual: 170.000000\n",
      "Predicted: 165.732878, Actual: 166.000000\n",
      "Predicted: 226.963455, Actual: 162.000000\n",
      "Predicted: 194.478323, Actual: 196.000000\n",
      "Predicted: 185.648000, Actual: 186.000000\n",
      "Predicted: 205.348749, Actual: 207.000000\n",
      "Predicted: 203.013885, Actual: 205.000000\n",
      "Predicted: 185.674796, Actual: 186.000000\n",
      "Predicted: 214.152276, Actual: 216.000000\n",
      "Predicted: 128.162967, Actual: 126.000000\n",
      "Predicted: 233.077690, Actual: 235.000000\n",
      "Predicted: 241.872802, Actual: 244.000000\n",
      "Predicted: 263.660358, Actual: 264.000000\n",
      "Predicted: 290.045693, Actual: 292.000000\n",
      "Predicted: 301.011098, Actual: 304.000000\n",
      "Predicted: 241.872802, Actual: 244.000000\n",
      "Predicted: 207.549631, Actual: 209.000000\n",
      "Predicted: 268.280217, Actual: 271.000000\n",
      "Predicted: 235.303216, Actual: 237.000000\n",
      "Predicted: 280.348162, Actual: 229.000000\n",
      "Predicted: 255.089417, Actual: 258.000000\n",
      "Predicted: 276.940239, Actual: 251.000000\n",
      "Predicted: 216.460344, Actual: 218.000000\n",
      "Predicted: 225.022702, Actual: 228.000000\n",
      "Predicted: 222.748498, Actual: 232.000000\n",
      "Predicted: 235.322326, Actual: 239.000000\n",
      "Predicted: 279.255586, Actual: 283.000000\n",
      "Predicted: 286.222633, Actual: 297.000000\n",
      "Predicted: 295.855329, Actual: 347.000000\n",
      "Predicted: 357.299984, Actual: 366.000000\n",
      "Predicted: 347.425736, Actual: 334.000000\n",
      "Predicted: 355.775230, Actual: 380.000000\n",
      "Predicted: 346.883169, Actual: 344.000000\n",
      "Predicted: 355.775230, Actual: 380.000000\n",
      "Predicted: 346.883169, Actual: 344.000000\n",
      "Predicted: 355.775230, Actual: 380.000000\n",
      "Predicted: 345.888462, Actual: 362.000000\n",
      "Predicted: 355.775230, Actual: 380.000000\n",
      "Predicted: 346.883169, Actual: 344.000000\n",
      "Predicted: 355.775230, Actual: 380.000000\n",
      "Predicted: 345.888462, Actual: 362.000000\n",
      "Predicted: 340.279948, Actual: 414.000000\n",
      "Predicted: 366.914491, Actual: 432.000000\n",
      "Predicted: 359.174203, Actual: 411.000000\n",
      "Predicted: 339.704992, Actual: 419.000000\n",
      "Predicted: 366.744826, Actual: 435.000000\n",
      "Predicted: 359.083775, Actual: 413.000000\n",
      "Predicted: 268.236773, Actual: 271.000000\n",
      "Predicted: 290.968203, Actual: 269.000000\n",
      "Predicted: 290.035011, Actual: 292.000000\n",
      "Predicted: 354.625318, Actual: 270.000000\n",
      "Predicted: 320.785857, Actual: 324.000000\n",
      "Predicted: 285.826996, Actual: 290.000000\n",
      "Predicted: 289.056956, Actual: 285.000000\n",
      "Predicted: 296.631345, Actual: 299.000000\n",
      "Predicted: 353.475406, Actual: 277.000000\n",
      "Predicted: 325.183413, Actual: 329.000000\n",
      "Predicted: 207.442445, Actual: 209.000000\n",
      "Predicted: 272.659252, Actual: 276.000000\n",
      "Predicted: 277.892875, Actual: 259.000000\n",
      "Predicted: 227.250380, Actual: 230.000000\n",
      "Predicted: 284.876101, Actual: 290.000000\n",
      "Predicted: 277.647309, Actual: 272.000000\n",
      "Predicted: 314.221568, Actual: 317.000000\n",
      "Predicted: 350.967932, Actual: 294.000000\n",
      "Predicted: 314.221568, Actual: 317.000000\n",
      "Predicted: 350.967932, Actual: 294.000000\n",
      "Predicted: 333.978524, Actual: 338.000000\n",
      "Predicted: 369.788711, Actual: 322.000000\n",
      "Predicted: 371.581954, Actual: 377.000000\n",
      "Predicted: 367.026464, Actual: 354.000000\n",
      "Predicted: 314.221568, Actual: 317.000000\n",
      "Predicted: 350.967932, Actual: 294.000000\n",
      "Predicted: 314.221568, Actual: 317.000000\n",
      "Predicted: 350.967932, Actual: 294.000000\n",
      "Predicted: 181.031864, Actual: 182.000000\n",
      "Predicted: 185.433627, Actual: 186.000000\n",
      "Predicted: 198.638918, Actual: 200.000000\n",
      "Predicted: 208.921616, Actual: 209.000000\n",
      "Predicted: 219.913949, Actual: 221.000000\n",
      "Predicted: 248.494017, Actual: 251.000000\n",
      "Predicted: 112.850839, Actual: 110.000000\n",
      "Predicted: 161.384707, Actual: 161.000000\n",
      "Predicted: 165.786471, Actual: 166.000000\n",
      "Predicted: 174.589998, Actual: 175.000000\n",
      "Predicted: 244.097083, Actual: 246.000000\n",
      "Predicted: 207.442445, Actual: 209.000000\n",
      "Predicted: 214.045090, Actual: 216.000000\n",
      "Predicted: 146.024035, Actual: 145.000000\n",
      "Predicted: 159.264215, Actual: 159.000000\n",
      "Predicted: 172.469506, Actual: 172.000000\n",
      "Predicted: 176.871269, Actual: 177.000000\n",
      "Predicted: 241.898617, Actual: 244.000000\n",
      "Predicted: 261.684817, Actual: 265.000000\n",
      "Predicted: 272.677151, Actual: 276.000000\n",
      "Predicted: 282.968246, Actual: 308.000000\n",
      "Predicted: 176.844473, Actual: 177.000000\n",
      "Predicted: 176.844473, Actual: 177.000000\n",
      "Predicted: 196.545222, Actual: 198.000000\n",
      "Predicted: 194.344340, Actual: 196.000000\n",
      "Predicted: 301.039582, Actual: 304.000000\n",
      "Predicted: 252.863131, Actual: 255.000000\n",
      "Predicted: 255.128229, Actual: 258.000000\n",
      "Predicted: 263.922096, Actual: 267.000000\n",
      "Predicted: 233.238529, Actual: 237.000000\n",
      "Predicted: 239.849829, Actual: 264.000000\n",
      "Predicted: 241.478996, Actual: 255.000000\n",
      "Predicted: 218.554039, Actual: 221.000000\n",
      "Predicted: 194.237154, Actual: 196.000000\n",
      "Predicted: 143.534521, Actual: 143.000000\n",
      "Predicted: 145.749975, Actual: 145.000000\n",
      "Predicted: 211.951394, Actual: 214.000000\n",
      "Predicted: 226.963455, Actual: 232.000000\n",
      "Predicted: 227.250380, Actual: 230.000000\n",
      "Predicted: 231.083689, Actual: 242.000000\n",
      "Predicted: 236.328704, Actual: 244.000000\n",
      "Predicted: 176.844473, Actual: 177.000000\n",
      "Predicted: 183.447118, Actual: 184.000000\n",
      "Predicted: 201.054172, Actual: 202.000000\n",
      "Predicted: 194.451526, Actual: 196.000000\n",
      "Predicted: 233.077690, Actual: 235.000000\n",
      "Predicted: 246.270357, Actual: 248.000000\n",
      "Predicted: 173.671436, Actual: 172.000000\n",
      "Predicted: 189.135415, Actual: 189.000000\n",
      "Predicted: 261.661803, Actual: 265.000000\n",
      "Predicted: 266.059358, Actual: 269.000000\n",
      "Predicted: 279.252026, Actual: 283.000000\n",
      "Predicted: 252.866691, Actual: 255.000000\n",
      "Predicted: 263.860580, Actual: 267.000000\n",
      "Predicted: 250.667913, Actual: 253.000000\n",
      "Predicted: 281.229218, Actual: 283.000000\n",
      "Predicted: 263.860580, Actual: 267.000000\n",
      "Predicted: 292.223108, Actual: 294.000000\n",
      "Predicted: 175.885429, Actual: 175.000000\n",
      "Predicted: 268.258136, Actual: 271.000000\n",
      "Predicted: 241.898617, Actual: 244.000000\n",
      "Predicted: 250.692483, Actual: 253.000000\n",
      "Predicted: 194.210358, Actual: 196.000000\n",
      "Predicted: 287.436564, Actual: 294.000000\n",
      "Predicted: 329.623695, Actual: 334.000000\n",
      "Predicted: 340.596221, Actual: 345.000000\n",
      "Predicted: 235.400247, Actual: 237.000000\n",
      "Predicted: 241.995647, Actual: 244.000000\n",
      "Predicted: 292.244471, Actual: 294.000000\n",
      "Predicted: 231.083689, Actual: 242.000000\n",
      "Predicted: 275.147287, Actual: 281.000000\n",
      "Predicted: 303.238360, Actual: 306.000000\n",
      "Predicted: 344.465715, Actual: 290.000000\n",
      "Predicted: 303.238360, Actual: 306.000000\n",
      "Predicted: 275.498184, Actual: 285.000000\n",
      "Predicted: 303.238360, Actual: 306.000000\n",
      "Predicted: 346.190583, Actual: 280.000000\n",
      "Predicted: 275.498184, Actual: 285.000000\n",
      "Predicted: 303.238360, Actual: 306.000000\n",
      "Predicted: 346.190583, Actual: 280.000000\n",
      "Predicted: 303.238360, Actual: 306.000000\n",
      "Predicted: 303.238360, Actual: 306.000000\n",
      "Predicted: 298.840804, Actual: 301.000000\n",
      "Predicted: 287.846915, Actual: 290.000000\n",
      "Predicted: 312.033472, Actual: 315.000000\n",
      "Predicted: 307.635916, Actual: 310.000000\n",
      "Predicted: 312.033472, Actual: 315.000000\n",
      "Predicted: 307.635916, Actual: 310.000000\n",
      "Predicted: 216.245972, Actual: 218.000000\n",
      "Predicted: 239.758368, Actual: 242.000000\n",
      "Predicted: 227.250380, Actual: 230.000000\n",
      "Predicted: 246.353768, Actual: 248.000000\n",
      "Predicted: 229.451262, Actual: 232.000000\n",
      "Predicted: 250.750702, Actual: 253.000000\n",
      "Predicted: 239.418879, Actual: 251.000000\n",
      "Predicted: 263.941502, Actual: 267.000000\n",
      "Predicted: 222.955803, Actual: 225.000000\n",
      "Predicted: 207.549631, Actual: 209.000000\n",
      "Predicted: 222.848617, Actual: 225.000000\n",
      "Predicted: 214.045090, Actual: 216.000000\n",
      "Predicted: 231.652144, Actual: 235.000000\n",
      "Predicted: 214.045090, Actual: 216.000000\n",
      "Predicted: 241.478996, Actual: 255.000000\n",
      "Predicted: 336.195105, Actual: 340.000000\n",
      "Predicted: 226.606380, Actual: 267.000000\n",
      "Predicted: 274.858030, Actual: 278.000000\n",
      "Predicted: 278.761581, Actual: 250.000000\n",
      "Predicted: 358.355305, Actual: 363.000000\n",
      "Predicted: 222.955803, Actual: 225.000000\n",
      "Predicted: 207.549631, Actual: 209.000000\n",
      "Predicted: 222.848617, Actual: 225.000000\n",
      "Predicted: 214.045090, Actual: 216.000000\n",
      "Predicted: 231.652144, Actual: 235.000000\n",
      "Predicted: 214.045090, Actual: 216.000000\n",
      "Predicted: 241.478996, Actual: 255.000000\n",
      "Predicted: 286.006356, Actual: 294.000000\n",
      "Predicted: 286.006356, Actual: 294.000000\n",
      "Predicted: 285.085187, Actual: 308.000000\n",
      "Predicted: 285.085187, Actual: 308.000000\n",
      "Predicted: 248.532829, Actual: 251.000000\n",
      "Predicted: 189.996170, Actual: 191.000000\n",
      "Predicted: 183.393525, Actual: 184.000000\n",
      "Predicted: 192.143459, Actual: 193.000000\n",
      "Predicted: 192.143459, Actual: 193.000000\n",
      "Predicted: 218.628264, Actual: 223.000000\n",
      "Predicted: 219.658323, Actual: 225.000000\n",
      "Predicted: 192.143459, Actual: 193.000000\n",
      "Predicted: 194.344340, Actual: 196.000000\n",
      "Predicted: 214.259462, Actual: 216.000000\n",
      "Predicted: 217.598206, Actual: 221.000000\n",
      "Predicted: 192.143459, Actual: 193.000000\n",
      "Predicted: 196.545222, Actual: 198.000000\n",
      "Predicted: 224.903338, Actual: 228.000000\n",
      "Predicted: 198.638918, Actual: 200.000000\n",
      "Predicted: 174.643591, Actual: 175.000000\n",
      "Predicted: 176.844473, Actual: 177.000000\n",
      "Predicted: 174.643591, Actual: 175.000000\n",
      "Predicted: 209.750512, Actual: 212.000000\n",
      "Predicted: 211.951394, Actual: 214.000000\n",
      "Predicted: 272.677151, Actual: 276.000000\n",
      "Predicted: 233.238529, Actual: 237.000000\n",
      "Predicted: 259.525163, Actual: 262.000000\n",
      "Predicted: 240.448938, Actual: 253.000000\n",
      "Predicted: 268.319029, Actual: 271.000000\n",
      "Predicted: 203.255053, Actual: 205.000000\n",
      "Predicted: 205.455935, Actual: 207.000000\n",
      "Predicted: 207.549631, Actual: 209.000000\n",
      "Predicted: 200.946986, Actual: 202.000000\n",
      "Predicted: 227.250380, Actual: 230.000000\n",
      "Predicted: 243.539113, Actual: 260.000000\n",
      "Predicted: 239.920660, Actual: 262.000000\n",
      "Predicted: 237.358762, Actual: 246.000000\n",
      "Predicted: 414.281032, Actual: 421.000000\n",
      "Predicted: 356.673726, Actual: 361.000000\n",
      "Predicted: 388.043306, Actual: 400.000000\n",
      "Predicted: 239.507571, Actual: 274.000000\n",
      "Predicted: 271.974167, Actual: 334.000000\n",
      "Predicted: 222.955803, Actual: 225.000000\n",
      "Predicted: 222.955803, Actual: 225.000000\n",
      "Predicted: 348.292213, Actual: 354.000000\n",
      "Predicted: 342.659838, Actual: 347.000000\n",
      "Predicted: 340.078309, Actual: 342.000000\n",
      "Predicted: 275.498184, Actual: 285.000000\n",
      "Predicted: 275.498184, Actual: 285.000000\n",
      "Predicted: 270.154454, Actual: 278.000000\n",
      "Predicted: 340.617584, Actual: 345.000000\n",
      "Predicted: 334.021250, Actual: 338.000000\n",
      "Predicted: 340.711304, Actual: 331.000000\n",
      "Predicted: 275.708689, Actual: 283.000000\n",
      "Predicted: 275.708689, Actual: 283.000000\n",
      "Predicted: 270.188690, Actual: 277.000000\n",
      "Predicted: 348.292213, Actual: 354.000000\n",
      "Predicted: 342.659838, Actual: 347.000000\n",
      "Predicted: 340.078309, Actual: 342.000000\n",
      "Predicted: 130.424503, Actual: 129.000000\n",
      "Predicted: 139.073162, Actual: 138.000000\n",
      "Predicted: 219.913949, Actual: 221.000000\n",
      "Predicted: 237.501683, Actual: 239.000000\n",
      "Predicted: 250.692483, Actual: 253.000000\n",
      "Predicted: 175.885429, Actual: 175.000000\n",
      "Predicted: 316.445269, Actual: 320.000000\n",
      "Predicted: 222.306478, Actual: 223.000000\n",
      "Predicted: 237.695745, Actual: 239.000000\n",
      "Predicted: 222.306478, Actual: 223.000000\n",
      "Predicted: 241.898617, Actual: 244.000000\n",
      "Predicted: 250.692483, Actual: 253.000000\n",
      "Predicted: 241.898617, Actual: 244.000000\n",
      "Predicted: 287.846915, Actual: 290.000000\n",
      "Predicted: 281.264823, Actual: 283.000000\n",
      "Predicted: 294.457491, Actual: 297.000000\n",
      "Predicted: 294.457491, Actual: 297.000000\n",
      "Predicted: 261.461581, Actual: 262.000000\n",
      "Predicted: 364.721720, Actual: 380.000000\n",
      "Predicted: 266.081750, Actual: 269.000000\n",
      "Predicted: 252.890950, Actual: 255.000000\n",
      "Predicted: 189.135415, Actual: 189.000000\n",
      "Predicted: 268.280217, Actual: 271.000000\n",
      "Predicted: 257.264247, Actual: 260.000000\n",
      "Predicted: 284.429893, Actual: 294.000000\n",
      "Predicted: 227.993513, Actual: 235.000000\n",
      "Predicted: 277.053248, Actual: 281.000000\n",
      "Predicted: 277.053248, Actual: 281.000000\n",
      "Predicted: 205.348749, Actual: 207.000000\n",
      "Predicted: 259.463025, Actual: 262.000000\n",
      "Predicted: 145.871780, Actual: 145.000000\n",
      "Predicted: 359.309960, Actual: 368.000000\n",
      "Predicted: 349.091170, Actual: 346.000000\n",
      "Predicted: 274.771153, Actual: 292.000000\n",
      "Predicted: 274.771153, Actual: 292.000000\n",
      "Predicted: 341.489373, Actual: 347.000000\n",
      "Predicted: 345.216686, Actual: 352.000000\n",
      "Predicted: 326.713227, Actual: 334.000000\n",
      "Predicted: 273.702426, Actual: 301.000000\n",
      "Predicted: 187.741695, Actual: 189.000000\n",
      "Predicted: 183.339932, Actual: 184.000000\n",
      "Predicted: 196.411239, Actual: 198.000000\n",
      "Predicted: 194.344340, Actual: 196.000000\n",
      "Predicted: 203.013885, Actual: 205.000000\n",
      "Predicted: 279.252026, Actual: 283.000000\n",
      "Predicted: 285.848359, Actual: 290.000000\n",
      "Predicted: 176.871269, Actual: 177.000000\n",
      "Predicted: 170.268624, Actual: 170.000000\n",
      "Predicted: 159.130233, Actual: 159.000000\n",
      "Predicted: 161.331114, Actual: 161.000000\n",
      "Predicted: 170.000658, Actual: 170.000000\n",
      "Predicted: 167.799777, Actual: 168.000000\n",
      "Predicted: 161.331114, Actual: 161.000000\n",
      "Predicted: 163.531996, Actual: 163.000000\n",
      "Predicted: 165.732878, Actual: 166.000000\n",
      "Predicted: 176.603304, Actual: 177.000000\n",
      "Predicted: 167.799777, Actual: 168.000000\n",
      "Predicted: 165.732878, Actual: 166.000000\n",
      "Predicted: 220.620938, Actual: 223.000000\n",
      "Predicted: 222.821820, Actual: 225.000000\n",
      "Predicted: 174.402422, Actual: 175.000000\n",
      "Predicted: 185.406831, Actual: 186.000000\n",
      "Predicted: 167.799777, Actual: 168.000000\n",
      "Predicted: 227.993513, Actual: 235.000000\n",
      "Predicted: 218.554039, Actual: 221.000000\n",
      "Predicted: 224.903338, Actual: 228.000000\n",
      "Predicted: 183.339932, Actual: 184.000000\n",
      "Predicted: 214.205869, Actual: 216.000000\n",
      "Predicted: 214.205869, Actual: 216.000000\n",
      "Predicted: 239.700150, Actual: 242.000000\n",
      "Predicted: 281.221774, Actual: 224.000000\n",
      "Predicted: 239.700150, Actual: 242.000000\n",
      "Predicted: 237.501683, Actual: 239.000000\n",
      "Predicted: 241.898617, Actual: 244.000000\n",
      "Predicted: 239.700150, Actual: 242.000000\n",
      "Predicted: 342.773636, Actual: 347.000000\n",
      "Predicted: 347.171191, Actual: 352.000000\n",
      "Predicted: 301.050264, Actual: 304.000000\n",
      "Predicted: 305.419335, Actual: 308.000000\n",
      "Predicted: 178.938168, Actual: 179.000000\n",
      "Predicted: 209.750512, Actual: 212.000000\n",
      "Predicted: 263.671040, Actual: 264.000000\n",
      "Predicted: 298.823002, Actual: 301.000000\n",
      "Predicted: 298.823002, Actual: 301.000000\n",
      "Predicted: 165.706081, Actual: 194.000000\n",
      "Predicted: 233.104750, Actual: 235.000000\n",
      "Predicted: 228.707816, Actual: 230.000000\n",
      "Predicted: 237.501683, Actual: 239.000000\n",
      "Predicted: 239.700150, Actual: 242.000000\n",
      "Predicted: 237.501683, Actual: 239.000000\n",
      "Predicted: 233.104750, Actual: 235.000000\n",
      "Predicted: 202.326216, Actual: 202.000000\n",
      "Predicted: 265.869818, Actual: 267.000000\n",
      "Predicted: 268.068596, Actual: 269.000000\n",
      "Predicted: 261.472262, Actual: 262.000000\n",
      "Predicted: 294.425446, Actual: 297.000000\n",
      "Predicted: 307.618113, Actual: 310.000000\n",
      "Predicted: 294.425446, Actual: 297.000000\n",
      "Predicted: 307.618113, Actual: 310.000000\n",
      "Predicted: 356.057322, Actual: 419.000000\n",
      "Predicted: 357.047248, Actual: 407.000000\n",
      "Predicted: 272.774181, Actual: 324.000000\n",
      "Predicted: 343.366832, Actual: 350.000000\n",
      "Predicted: 344.942124, Actual: 359.000000\n",
      "Predicted: 357.752822, Actual: 363.000000\n",
      "Predicted: 194.317544, Actual: 230.000000\n",
      "Predicted: 257.287884, Actual: 260.000000\n",
      "Predicted: 274.875617, Actual: 278.000000\n",
      "Predicted: 276.683545, Actual: 256.000000\n",
      "Predicted: 235.400247, Actual: 278.000000\n",
      "Predicted: 323.038042, Actual: 327.000000\n",
      "Predicted: 351.593671, Actual: 356.000000\n",
      "Predicted: 276.863707, Actual: 278.000000\n",
      "Predicted: 274.664929, Actual: 276.000000\n",
      "Predicted: 301.021780, Actual: 304.000000\n",
      "Predicted: 268.068596, Actual: 269.000000\n",
      "Predicted: 290.027890, Actual: 292.000000\n",
      "Predicted: 322.991756, Actual: 327.000000\n",
      "Predicted: 203.201460, Actual: 205.000000\n",
      "Predicted: 205.402342, Actual: 207.000000\n",
      "Predicted: 224.310883, Actual: 225.000000\n",
      "Predicted: 246.052333, Actual: 246.000000\n",
      "Predicted: 373.801557, Actual: 380.000000\n",
      "Predicted: 356.044733, Actual: 361.000000\n",
      "Predicted: 356.044733, Actual: 361.000000\n",
      "Predicted: 179.045354, Actual: 179.000000\n",
      "Predicted: 179.045354, Actual: 179.000000\n",
      "Predicted: 179.045354, Actual: 179.000000\n",
      "Predicted: 179.045354, Actual: 179.000000\n",
      "Predicted: 198.853290, Actual: 200.000000\n",
      "Predicted: 179.045354, Actual: 179.000000\n",
      "Predicted: 174.643591, Actual: 175.000000\n",
      "Predicted: 168.040946, Actual: 168.000000\n",
      "Predicted: 198.853290, Actual: 200.000000\n",
      "Predicted: 179.045354, Actual: 179.000000\n",
      "Predicted: 179.045354, Actual: 179.000000\n",
      "Predicted: 179.045354, Actual: 179.000000\n",
      "Predicted: 190.049763, Actual: 191.000000\n",
      "Predicted: 183.447118, Actual: 184.000000\n",
      "Predicted: 190.049763, Actual: 191.000000\n",
      "Predicted: 183.447118, Actual: 184.000000\n",
      "Predicted: 205.455935, Actual: 207.000000\n",
      "Predicted: 194.451526, Actual: 196.000000\n",
      "Predicted: 190.049763, Actual: 191.000000\n",
      "Predicted: 183.447118, Actual: 184.000000\n",
      "Predicted: 205.455935, Actual: 207.000000\n",
      "Predicted: 194.451526, Actual: 196.000000\n",
      "Predicted: 190.049763, Actual: 191.000000\n",
      "Predicted: 183.447118, Actual: 184.000000\n",
      "Predicted: 190.049763, Actual: 191.000000\n",
      "Predicted: 183.447118, Actual: 184.000000\n",
      "Predicted: 190.049763, Actual: 191.000000\n",
      "Predicted: 183.447118, Actual: 184.000000\n",
      "Predicted: 205.455935, Actual: 207.000000\n",
      "Predicted: 194.451526, Actual: 196.000000\n",
      "Predicted: 190.049763, Actual: 191.000000\n",
      "Predicted: 183.447118, Actual: 184.000000\n",
      "Predicted: 205.455935, Actual: 207.000000\n",
      "Predicted: 194.451526, Actual: 196.000000\n",
      "Predicted: 190.049763, Actual: 191.000000\n",
      "Predicted: 183.447118, Actual: 184.000000\n",
      "Predicted: 187.741695, Actual: 189.000000\n",
      "Predicted: 189.942577, Actual: 191.000000\n",
      "Predicted: 216.245972, Actual: 218.000000\n",
      "Predicted: 238.994183, Actual: 288.000000\n",
      "Predicted: 239.165312, Actual: 283.000000\n",
      "Predicted: 239.764264, Actual: 267.000000\n",
      "Predicted: 196.545222, Actual: 198.000000\n",
      "Predicted: 196.545222, Actual: 198.000000\n",
      "Predicted: 141.246845, Actual: 138.000000\n",
      "Predicted: 149.505589, Actual: 147.000000\n",
      "Predicted: 196.438036, Actual: 198.000000\n",
      "Predicted: 207.442445, Actual: 209.000000\n",
      "Predicted: 233.201780, Actual: 235.000000\n",
      "Predicted: 198.746104, Actual: 200.000000\n",
      "Predicted: 200.946986, Actual: 202.000000\n",
      "Predicted: 205.348749, Actual: 207.000000\n",
      "Predicted: 250.667913, Actual: 253.000000\n",
      "Predicted: 261.661803, Actual: 264.000000\n",
      "Predicted: 259.463025, Actual: 262.000000\n",
      "Predicted: 266.059358, Actual: 269.000000\n",
      "Predicted: 174.402422, Actual: 175.000000\n",
      "Predicted: 213.318549, Actual: 214.000000\n",
      "Predicted: 362.485098, Actual: 380.000000\n",
      "Predicted: 245.158159, Actual: 283.000000\n",
      "Predicted: 244.592852, Actual: 260.000000\n",
      "Predicted: 288.036455, Actual: 292.000000\n",
      "Predicted: 293.072197, Actual: 315.000000\n",
      "Predicted: 293.422570, Actual: 301.000000\n",
      "Predicted: 289.431899, Actual: 297.000000\n",
      "Predicted: 185.648000, Actual: 186.000000\n",
      "Predicted: 196.652408, Actual: 198.000000\n",
      "Predicted: 198.853290, Actual: 200.000000\n",
      "Predicted: 248.494017, Actual: 251.000000\n",
      "Predicted: 268.280217, Actual: 271.000000\n",
      "Predicted: 211.951394, Actual: 214.000000\n",
      "Predicted: 241.898617, Actual: 244.000000\n",
      "Predicted: 250.692483, Actual: 253.000000\n",
      "Predicted: 200.813003, Actual: 202.000000\n",
      "Predicted: 252.890950, Actual: 255.000000\n",
      "Predicted: 189.808594, Actual: 191.000000\n",
      "Predicted: 196.411239, Actual: 198.000000\n",
      "Predicted: 161.384707, Actual: 161.000000\n",
      "Predicted: 178.991761, Actual: 179.000000\n",
      "Predicted: 353.788888, Actual: 359.000000\n",
      "Predicted: 360.377636, Actual: 398.000000\n",
      "Predicted: 152.634773, Actual: 152.000000\n",
      "Predicted: 176.844473, Actual: 177.000000\n",
      "Predicted: 291.732763, Actual: 327.000000\n",
      "Predicted: 293.072197, Actual: 315.000000\n",
      "Predicted: 230.925689, Actual: 232.000000\n",
      "Predicted: 244.116489, Actual: 246.000000\n",
      "Predicted: 235.322623, Actual: 237.000000\n",
      "Predicted: 244.116489, Actual: 246.000000\n",
      "Predicted: 239.719556, Actual: 242.000000\n",
      "Predicted: 250.711890, Actual: 253.000000\n",
      "Predicted: 246.266797, Actual: 248.000000\n",
      "Predicted: 250.664353, Actual: 253.000000\n",
      "Predicted: 250.664353, Actual: 253.000000\n",
      "Predicted: 255.061908, Actual: 258.000000\n",
      "Predicted: 230.925689, Actual: 232.000000\n",
      "Predicted: 244.116489, Actual: 246.000000\n",
      "Predicted: 241.869241, Actual: 244.000000\n",
      "Predicted: 246.266797, Actual: 248.000000\n",
      "Predicted: 244.068019, Actual: 246.000000\n",
      "Predicted: 248.465575, Actual: 251.000000\n",
      "Predicted: 287.834473, Actual: 322.000000\n",
      "Predicted: 270.453354, Actual: 274.000000\n",
      "Predicted: 270.453354, Actual: 274.000000\n",
      "Predicted: 270.453354, Actual: 274.000000\n",
      "Predicted: 270.453354, Actual: 274.000000\n",
      "Predicted: 211.275332, Actual: 212.000000\n",
      "Predicted: 226.664599, Actual: 228.000000\n",
      "Predicted: 224.330289, Actual: 225.000000\n",
      "Predicted: 237.521089, Actual: 239.000000\n",
      "Predicted: 272.659252, Actual: 276.000000\n",
      "Predicted: 284.510776, Actual: 313.000000\n",
      "Predicted: 237.598714, Actual: 281.000000\n",
      "Predicted: 316.438148, Actual: 320.000000\n",
      "Predicted: 296.649147, Actual: 299.000000\n",
      "Predicted: 248.591047, Actual: 251.000000\n",
      "Predicted: 312.040593, Actual: 315.000000\n",
      "Predicted: 211.275332, Actual: 212.000000\n",
      "Predicted: 226.664599, Actual: 228.000000\n",
      "Predicted: 224.330289, Actual: 225.000000\n",
      "Predicted: 237.521089, Actual: 239.000000\n",
      "Predicted: 248.474611, Actual: 251.000000\n",
      "Predicted: 252.871544, Actual: 255.000000\n",
      "Predicted: 257.384914, Actual: 260.000000\n",
      "Predicted: 261.781848, Actual: 264.000000\n",
      "Predicted: 290.052814, Actual: 292.000000\n",
      "Predicted: 257.384914, Actual: 260.000000\n",
      "Predicted: 292.251592, Actual: 294.000000\n",
      "Predicted: 294.450370, Actual: 297.000000\n",
      "Predicted: 336.195105, Actual: 340.000000\n",
      "Predicted: 309.809770, Actual: 313.000000\n",
      "Predicted: 349.387772, Actual: 354.000000\n",
      "Predicted: 320.803659, Actual: 324.000000\n",
      "Predicted: 241.995647, Actual: 286.000000\n",
      "Predicted: 284.876101, Actual: 290.000000\n",
      "Predicted: 277.617432, Actual: 285.000000\n",
      "Predicted: 233.201780, Actual: 275.000000\n",
      "Predicted: 270.460475, Actual: 274.000000\n",
      "Predicted: 277.708701, Actual: 269.000000\n",
      "Predicted: 257.268477, Actual: 260.000000\n",
      "Predicted: 259.466944, Actual: 262.000000\n",
      "Predicted: 278.131044, Actual: 254.000000\n",
      "Predicted: 367.635174, Actual: 368.000000\n",
      "Predicted: 367.635174, Actual: 368.000000\n",
      "Predicted: 392.230676, Actual: 393.000000\n",
      "Predicted: 392.230676, Actual: 393.000000\n",
      "Predicted: 392.230676, Actual: 393.000000\n",
      "Predicted: 392.230676, Actual: 393.000000\n",
      "Predicted: 358.697741, Actual: 359.000000\n",
      "Predicted: 192.143459, Actual: 193.000000\n",
      "Predicted: 216.353158, Actual: 218.000000\n",
      "Predicted: 143.869483, Actual: 143.000000\n",
      "Predicted: 205.214766, Actual: 207.000000\n",
      "Predicted: 205.214766, Actual: 207.000000\n",
      "Predicted: 225.049498, Actual: 228.000000\n",
      "Predicted: 225.049498, Actual: 228.000000\n",
      "Predicted: 183.393525, Actual: 184.000000\n",
      "Predicted: 181.192643, Actual: 182.000000\n",
      "Predicted: 150.430321, Actual: 147.000000\n",
      "Predicted: 150.430321, Actual: 147.000000\n",
      "Predicted: 386.381626, Actual: 389.000000\n",
      "Predicted: 386.381626, Actual: 389.000000\n",
      "Predicted: 194.344340, Actual: 196.000000\n",
      "Predicted: 218.554039, Actual: 221.000000\n",
      "Predicted: 216.353158, Actual: 218.000000\n",
      "Predicted: 196.411239, Actual: 198.000000\n",
      "Predicted: 220.620938, Actual: 223.000000\n",
      "Predicted: 178.938168, Actual: 179.000000\n",
      "Predicted: 194.344340, Actual: 196.000000\n",
      "Predicted: 243.562794, Actual: 258.000000\n",
      "Predicted: 244.987030, Actual: 288.000000\n",
      "Predicted: 178.938168, Actual: 179.000000\n",
      "Predicted: 194.344340, Actual: 196.000000\n",
      "Predicted: 243.562794, Actual: 258.000000\n",
      "Predicted: 244.987030, Actual: 288.000000\n",
      "Predicted: 196.411239, Actual: 198.000000\n",
      "Predicted: 225.022702, Actual: 228.000000\n",
      "Predicted: 263.864141, Actual: 267.000000\n",
      "Predicted: 205.214766, Actual: 207.000000\n",
      "Predicted: 222.821820, Actual: 225.000000\n",
      "Predicted: 266.062919, Actual: 269.000000\n",
      "Predicted: 285.778178, Actual: 301.000000\n",
      "Predicted: 194.344340, Actual: 196.000000\n",
      "Predicted: 209.750512, Actual: 212.000000\n",
      "Predicted: 176.737286, Actual: 177.000000\n",
      "Predicted: 292.292315, Actual: 297.000000\n",
      "Predicted: 292.292315, Actual: 297.000000\n",
      "Predicted: 219.913949, Actual: 221.000000\n",
      "Predicted: 187.607712, Actual: 189.000000\n",
      "Predicted: 219.913949, Actual: 221.000000\n",
      "Predicted: 132.435083, Actual: 131.000000\n",
      "Predicted: 139.073162, Actual: 138.000000\n",
      "Predicted: 176.790880, Actual: 177.000000\n",
      "Predicted: 167.987353, Actual: 168.000000\n",
      "Predicted: 163.585589, Actual: 163.000000\n",
      "Predicted: 170.188234, Actual: 170.000000\n",
      "Predicted: 156.982944, Actual: 156.000000\n",
      "Predicted: 159.183826, Actual: 159.000000\n",
      "Predicted: 194.397933, Actual: 196.000000\n",
      "Predicted: 187.795288, Actual: 189.000000\n",
      "Predicted: 292.292315, Actual: 297.000000\n",
      "Predicted: 292.595016, Actual: 320.000000\n",
      "Predicted: 233.772636, Actual: 237.000000\n",
      "Predicted: 255.089417, Actual: 258.000000\n",
      "Predicted: 261.684817, Actual: 264.000000\n",
      "Predicted: 191.333882, Actual: 191.000000\n",
      "Predicted: 189.135415, Actual: 189.000000\n",
      "Predicted: 112.895735, Actual: 110.000000\n",
      "Predicted: 111.075183, Actual: 108.000000\n",
      "Predicted: 128.216481, Actual: 126.000000\n",
      "Predicted: 203.013885, Actual: 205.000000\n",
      "Predicted: 214.018293, Actual: 216.000000\n",
      "Predicted: 216.219175, Actual: 218.000000\n",
      "Predicted: 364.214713, Actual: 384.000000\n",
      "Predicted: 257.287884, Actual: 260.000000\n",
      "Predicted: 281.471018, Actual: 285.000000\n",
      "Predicted: 242.580097, Actual: 251.000000\n",
      "Predicted: 231.571754, Actual: 235.000000\n",
      "Predicted: 293.422570, Actual: 301.000000\n",
      "Predicted: 247.650387, Actual: 274.000000\n",
      "Predicted: 247.670974, Actual: 271.000000\n",
      "Predicted: 293.961108, Actual: 306.000000\n",
      "Predicted: 292.307719, Actual: 322.000000\n",
      "Predicted: 293.516652, Actual: 310.000000\n",
      "Predicted: 325.240381, Actual: 329.000000\n",
      "Predicted: 351.586550, Actual: 356.000000\n",
      "Predicted: 341.099218, Actual: 347.000000\n",
      "Predicted: 364.839736, Actual: 373.000000\n",
      "Predicted: 227.169991, Actual: 230.000000\n",
      "Predicted: 250.692483, Actual: 253.000000\n",
      "Predicted: 231.571754, Actual: 235.000000\n",
      "Predicted: 257.287884, Actual: 260.000000\n",
      "Predicted: 168.067742, Actual: 168.000000\n",
      "Predicted: 163.665979, Actual: 163.000000\n",
      "Predicted: 194.397933, Actual: 196.000000\n",
      "Predicted: 198.799697, Actual: 200.000000\n",
      "Predicted: 207.549631, Actual: 209.000000\n",
      "Predicted: 214.152276, Actual: 216.000000\n",
      "Predicted: 223.628621, Actual: 225.000000\n",
      "Predicted: 219.226858, Actual: 221.000000\n",
      "Predicted: 198.799697, Actual: 200.000000\n",
      "Predicted: 211.951394, Actual: 214.000000\n",
      "Predicted: 214.152276, Actual: 216.000000\n",
      "Predicted: 230.231267, Actual: 232.000000\n",
      "Predicted: 167.933759, Actual: 197.000000\n",
      "Predicted: 167.933759, Actual: 197.000000\n",
      "Predicted: 220.754921, Actual: 223.000000\n",
      "Predicted: 222.955803, Actual: 225.000000\n",
      "Predicted: 279.255586, Actual: 283.000000\n",
      "Predicted: 218.554039, Actual: 221.000000\n",
      "Predicted: 217.025976, Actual: 218.000000\n",
      "Predicted: 214.825095, Actual: 216.000000\n",
      "Predicted: 165.732878, Actual: 194.000000\n",
      "Predicted: 159.130233, Actual: 186.000000\n",
      "Predicted: 187.795288, Actual: 189.000000\n",
      "Predicted: 187.795288, Actual: 189.000000\n",
      "Predicted: 214.152276, Actual: 216.000000\n",
      "Predicted: 205.348749, Actual: 207.000000\n",
      "Predicted: 205.348749, Actual: 207.000000\n",
      "Predicted: 209.750512, Actual: 212.000000\n",
      "Predicted: 159.130233, Actual: 186.000000\n",
      "Predicted: 159.130233, Actual: 186.000000\n",
      "Predicted: 126.120586, Actual: 124.000000\n",
      "Predicted: 196.598815, Actual: 198.000000\n",
      "Predicted: 196.598815, Actual: 198.000000\n",
      "Predicted: 221.427740, Actual: 223.000000\n",
      "Predicted: 223.628621, Actual: 225.000000\n",
      "Predicted: 246.276144, Actual: 248.000000\n",
      "Predicted: 163.531996, Actual: 192.000000\n",
      "Predicted: 156.929351, Actual: 184.000000\n",
      "Predicted: 274.858030, Actual: 278.000000\n",
      "Predicted: 233.143805, Actual: 246.000000\n",
      "Predicted: 239.764264, Actual: 267.000000\n",
      "Predicted: 233.143805, Actual: 246.000000\n",
      "Predicted: 277.056808, Actual: 281.000000\n",
      "Predicted: 237.598714, Actual: 281.000000\n",
      "Predicted: 221.427740, Actual: 223.000000\n",
      "Predicted: 230.231267, Actual: 232.000000\n",
      "Predicted: 261.781848, Actual: 264.000000\n",
      "Predicted: 233.162968, Actual: 235.000000\n",
      "Predicted: 261.781848, Actual: 264.000000\n",
      "Predicted: 255.147635, Actual: 258.000000\n",
      "Predicted: 268.377248, Actual: 271.000000\n",
      "Predicted: 261.743035, Actual: 264.000000\n",
      "Predicted: 268.377248, Actual: 271.000000\n",
      "Predicted: 257.346102, Actual: 260.000000\n",
      "Predicted: 278.528579, Actual: 294.000000\n"
     ]
    }
   ],
   "source": [
    "# compare actual vs predicted\n",
    "\n",
    "y_pred_reg = mlp_reg.predict(train_x_reg)\n",
    "\n",
    "for i in range(len(y_pred_reg)):\n",
    "    print('Predicted: %f, Actual: %f' % (y_pred_reg[i], train_y_reg[i]))"
   ],
   "metadata": {
    "collapsed": false,
    "pycharm": {
     "name": "#%%\n"
    }
   }
  },
  {
   "cell_type": "code",
   "execution_count": 54,
   "outputs": [
    {
     "name": "stdout",
     "output_type": "stream",
     "text": [
      "Absolute error: 8.320588\n",
      "Squared error: 293.349134\n",
      "Root mean squared error: 17.127438\n",
      "R2 score: 0.926887\n"
     ]
    }
   ],
   "source": [
    "# Calculate the errors and r2 score\n",
    "from sklearn.metrics import mean_absolute_error, mean_squared_error, r2_score\n",
    "\n",
    "# Calculate the absolute error\n",
    "absolute_error = mean_absolute_error(train_y_reg, y_pred_reg)\n",
    "print('Absolute error: %f' % absolute_error)\n",
    "\n",
    "# Calculate the squared error\n",
    "squared_error = mean_squared_error(train_y_reg, y_pred_reg)\n",
    "print('Squared error: %f' % squared_error)\n",
    "\n",
    "# Calculate the root mean squared error\n",
    "root_mean_squared_error = np.sqrt(squared_error)\n",
    "print('Root mean squared error: %f' % root_mean_squared_error)\n",
    "\n",
    "# Calculate the R2 score\n",
    "r2_score = r2_score(train_y_reg, y_pred_reg)\n",
    "print('R2 score: %f' % r2_score)"
   ],
   "metadata": {
    "collapsed": false,
    "pycharm": {
     "name": "#%%\n"
    }
   }
  },
  {
   "cell_type": "code",
   "execution_count": null,
   "outputs": [],
   "source": [],
   "metadata": {
    "collapsed": false,
    "pycharm": {
     "name": "#%%\n"
    }
   }
  }
 ],
 "metadata": {
  "kernelspec": {
   "display_name": "Python 3",
   "language": "python",
   "name": "python3"
  },
  "language_info": {
   "codemirror_mode": {
    "name": "ipython",
    "version": 2
   },
   "file_extension": ".py",
   "mimetype": "text/x-python",
   "name": "python",
   "nbconvert_exporter": "python",
   "pygments_lexer": "ipython2",
   "version": "2.7.6"
  }
 },
 "nbformat": 4,
 "nbformat_minor": 0
}