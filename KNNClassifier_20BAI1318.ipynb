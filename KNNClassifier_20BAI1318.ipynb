{
 "cells": [
  {
   "cell_type": "markdown",
   "source": [
    "## CSE1015 - Lab 5 - KNN Classifier\n",
    "#### Yajus Kishor\n",
    "#### 20BAI1318"
   ],
   "metadata": {
    "collapsed": false
   }
  },
  {
   "cell_type": "code",
   "execution_count": 49,
   "outputs": [],
   "source": [
    "import pandas as pd\n",
    "\n",
    "df = pd.read_csv('bank_data.csv')"
   ],
   "metadata": {
    "collapsed": false,
    "pycharm": {
     "name": "#%%\n"
    }
   }
  },
  {
   "cell_type": "code",
   "execution_count": 50,
   "outputs": [
    {
     "name": "stdout",
     "output_type": "stream",
     "text": [
      "<class 'pandas.core.frame.DataFrame'>\n",
      "RangeIndex: 4119 entries, 0 to 4118\n",
      "Data columns (total 21 columns):\n",
      " #   Column          Non-Null Count  Dtype  \n",
      "---  ------          --------------  -----  \n",
      " 0   age             4119 non-null   int64  \n",
      " 1   job             4119 non-null   object \n",
      " 2   marital         4119 non-null   object \n",
      " 3   education       4119 non-null   object \n",
      " 4   default         4119 non-null   object \n",
      " 5   housing         4119 non-null   object \n",
      " 6   loan            4119 non-null   object \n",
      " 7   contact         4119 non-null   object \n",
      " 8   month           4119 non-null   object \n",
      " 9   day_of_week     4119 non-null   object \n",
      " 10  duration        4119 non-null   int64  \n",
      " 11  campaign        4119 non-null   int64  \n",
      " 12  pdays           4119 non-null   int64  \n",
      " 13  previous        4119 non-null   int64  \n",
      " 14  poutcome        4119 non-null   object \n",
      " 15  emp.var.rate    4119 non-null   float64\n",
      " 16  cons.price.idx  4119 non-null   float64\n",
      " 17  cons.conf.idx   4119 non-null   float64\n",
      " 18  euribor3m       4119 non-null   float64\n",
      " 19  nr.employed     4119 non-null   float64\n",
      " 20  y               4119 non-null   object \n",
      "dtypes: float64(5), int64(5), object(11)\n",
      "memory usage: 675.9+ KB\n"
     ]
    }
   ],
   "source": [
    "df.info()"
   ],
   "metadata": {
    "collapsed": false,
    "pycharm": {
     "name": "#%%\n"
    }
   }
  },
  {
   "cell_type": "code",
   "execution_count": 51,
   "outputs": [
    {
     "data": {
      "text/plain": "   age          job  marital          education default  housing     loan  \\\n0   30  blue-collar  married           basic.9y      no      yes       no   \n1   39     services   single        high.school      no       no       no   \n2   25     services  married        high.school      no      yes       no   \n3   38     services  married           basic.9y      no  unknown  unknown   \n4   47       admin.  married  university.degree      no      yes       no   \n\n     contact month day_of_week  ...  campaign  pdays  previous     poutcome  \\\n0   cellular   may         fri  ...         2    999         0  nonexistent   \n1  telephone   may         fri  ...         4    999         0  nonexistent   \n2  telephone   jun         wed  ...         1    999         0  nonexistent   \n3  telephone   jun         fri  ...         3    999         0  nonexistent   \n4   cellular   nov         mon  ...         1    999         0  nonexistent   \n\n  emp.var.rate  cons.price.idx  cons.conf.idx  euribor3m  nr.employed   y  \n0         -1.8          92.893          -46.2      1.313       5099.1  no  \n1          1.1          93.994          -36.4      4.855       5191.0  no  \n2          1.4          94.465          -41.8      4.962       5228.1  no  \n3          1.4          94.465          -41.8      4.959       5228.1  no  \n4         -0.1          93.200          -42.0      4.191       5195.8  no  \n\n[5 rows x 21 columns]",
      "text/html": "<div>\n<style scoped>\n    .dataframe tbody tr th:only-of-type {\n        vertical-align: middle;\n    }\n\n    .dataframe tbody tr th {\n        vertical-align: top;\n    }\n\n    .dataframe thead th {\n        text-align: right;\n    }\n</style>\n<table border=\"1\" class=\"dataframe\">\n  <thead>\n    <tr style=\"text-align: right;\">\n      <th></th>\n      <th>age</th>\n      <th>job</th>\n      <th>marital</th>\n      <th>education</th>\n      <th>default</th>\n      <th>housing</th>\n      <th>loan</th>\n      <th>contact</th>\n      <th>month</th>\n      <th>day_of_week</th>\n      <th>...</th>\n      <th>campaign</th>\n      <th>pdays</th>\n      <th>previous</th>\n      <th>poutcome</th>\n      <th>emp.var.rate</th>\n      <th>cons.price.idx</th>\n      <th>cons.conf.idx</th>\n      <th>euribor3m</th>\n      <th>nr.employed</th>\n      <th>y</th>\n    </tr>\n  </thead>\n  <tbody>\n    <tr>\n      <th>0</th>\n      <td>30</td>\n      <td>blue-collar</td>\n      <td>married</td>\n      <td>basic.9y</td>\n      <td>no</td>\n      <td>yes</td>\n      <td>no</td>\n      <td>cellular</td>\n      <td>may</td>\n      <td>fri</td>\n      <td>...</td>\n      <td>2</td>\n      <td>999</td>\n      <td>0</td>\n      <td>nonexistent</td>\n      <td>-1.8</td>\n      <td>92.893</td>\n      <td>-46.2</td>\n      <td>1.313</td>\n      <td>5099.1</td>\n      <td>no</td>\n    </tr>\n    <tr>\n      <th>1</th>\n      <td>39</td>\n      <td>services</td>\n      <td>single</td>\n      <td>high.school</td>\n      <td>no</td>\n      <td>no</td>\n      <td>no</td>\n      <td>telephone</td>\n      <td>may</td>\n      <td>fri</td>\n      <td>...</td>\n      <td>4</td>\n      <td>999</td>\n      <td>0</td>\n      <td>nonexistent</td>\n      <td>1.1</td>\n      <td>93.994</td>\n      <td>-36.4</td>\n      <td>4.855</td>\n      <td>5191.0</td>\n      <td>no</td>\n    </tr>\n    <tr>\n      <th>2</th>\n      <td>25</td>\n      <td>services</td>\n      <td>married</td>\n      <td>high.school</td>\n      <td>no</td>\n      <td>yes</td>\n      <td>no</td>\n      <td>telephone</td>\n      <td>jun</td>\n      <td>wed</td>\n      <td>...</td>\n      <td>1</td>\n      <td>999</td>\n      <td>0</td>\n      <td>nonexistent</td>\n      <td>1.4</td>\n      <td>94.465</td>\n      <td>-41.8</td>\n      <td>4.962</td>\n      <td>5228.1</td>\n      <td>no</td>\n    </tr>\n    <tr>\n      <th>3</th>\n      <td>38</td>\n      <td>services</td>\n      <td>married</td>\n      <td>basic.9y</td>\n      <td>no</td>\n      <td>unknown</td>\n      <td>unknown</td>\n      <td>telephone</td>\n      <td>jun</td>\n      <td>fri</td>\n      <td>...</td>\n      <td>3</td>\n      <td>999</td>\n      <td>0</td>\n      <td>nonexistent</td>\n      <td>1.4</td>\n      <td>94.465</td>\n      <td>-41.8</td>\n      <td>4.959</td>\n      <td>5228.1</td>\n      <td>no</td>\n    </tr>\n    <tr>\n      <th>4</th>\n      <td>47</td>\n      <td>admin.</td>\n      <td>married</td>\n      <td>university.degree</td>\n      <td>no</td>\n      <td>yes</td>\n      <td>no</td>\n      <td>cellular</td>\n      <td>nov</td>\n      <td>mon</td>\n      <td>...</td>\n      <td>1</td>\n      <td>999</td>\n      <td>0</td>\n      <td>nonexistent</td>\n      <td>-0.1</td>\n      <td>93.200</td>\n      <td>-42.0</td>\n      <td>4.191</td>\n      <td>5195.8</td>\n      <td>no</td>\n    </tr>\n  </tbody>\n</table>\n<p>5 rows × 21 columns</p>\n</div>"
     },
     "execution_count": 51,
     "metadata": {},
     "output_type": "execute_result"
    }
   ],
   "source": [
    "df.head()"
   ],
   "metadata": {
    "collapsed": false,
    "pycharm": {
     "name": "#%%\n"
    }
   }
  },
  {
   "cell_type": "code",
   "execution_count": 52,
   "outputs": [],
   "source": [
    "df['OUTPUT_LABEL'] = (df.y == 'yes').astype('int')"
   ],
   "metadata": {
    "collapsed": false,
    "pycharm": {
     "name": "#%%\n"
    }
   }
  },
  {
   "cell_type": "code",
   "execution_count": 53,
   "outputs": [
    {
     "name": "stdout",
     "output_type": "stream",
     "text": [
      "<class 'pandas.core.frame.DataFrame'>\n",
      "RangeIndex: 4119 entries, 0 to 4118\n",
      "Data columns (total 22 columns):\n",
      " #   Column          Non-Null Count  Dtype  \n",
      "---  ------          --------------  -----  \n",
      " 0   age             4119 non-null   int64  \n",
      " 1   job             4119 non-null   object \n",
      " 2   marital         4119 non-null   object \n",
      " 3   education       4119 non-null   object \n",
      " 4   default         4119 non-null   object \n",
      " 5   housing         4119 non-null   object \n",
      " 6   loan            4119 non-null   object \n",
      " 7   contact         4119 non-null   object \n",
      " 8   month           4119 non-null   object \n",
      " 9   day_of_week     4119 non-null   object \n",
      " 10  duration        4119 non-null   int64  \n",
      " 11  campaign        4119 non-null   int64  \n",
      " 12  pdays           4119 non-null   int64  \n",
      " 13  previous        4119 non-null   int64  \n",
      " 14  poutcome        4119 non-null   object \n",
      " 15  emp.var.rate    4119 non-null   float64\n",
      " 16  cons.price.idx  4119 non-null   float64\n",
      " 17  cons.conf.idx   4119 non-null   float64\n",
      " 18  euribor3m       4119 non-null   float64\n",
      " 19  nr.employed     4119 non-null   float64\n",
      " 20  y               4119 non-null   object \n",
      " 21  OUTPUT_LABEL    4119 non-null   int32  \n",
      "dtypes: float64(5), int32(1), int64(5), object(11)\n",
      "memory usage: 692.0+ KB\n"
     ]
    }
   ],
   "source": [
    "df.info()"
   ],
   "metadata": {
    "collapsed": false,
    "pycharm": {
     "name": "#%%\n"
    }
   }
  },
  {
   "cell_type": "code",
   "execution_count": 54,
   "outputs": [],
   "source": [
    "cols_num = ['campaign', 'pdays',\n",
    "            'previous', 'emp.var.rate', 'cons.price.idx', 'cons.conf.idx', 'nr.employed', 'age', 'euribor3m']"
   ],
   "metadata": {
    "collapsed": false,
    "pycharm": {
     "name": "#%%\n"
    }
   }
  },
  {
   "cell_type": "code",
   "execution_count": 55,
   "outputs": [
    {
     "data": {
      "text/plain": "   campaign  pdays  previous  emp.var.rate  cons.price.idx  cons.conf.idx  \\\n0         2    999         0          -1.8          92.893          -46.2   \n1         4    999         0           1.1          93.994          -36.4   \n2         1    999         0           1.4          94.465          -41.8   \n3         3    999         0           1.4          94.465          -41.8   \n4         1    999         0          -0.1          93.200          -42.0   \n\n   nr.employed  age  euribor3m  \n0       5099.1   30      1.313  \n1       5191.0   39      4.855  \n2       5228.1   25      4.962  \n3       5228.1   38      4.959  \n4       5195.8   47      4.191  ",
      "text/html": "<div>\n<style scoped>\n    .dataframe tbody tr th:only-of-type {\n        vertical-align: middle;\n    }\n\n    .dataframe tbody tr th {\n        vertical-align: top;\n    }\n\n    .dataframe thead th {\n        text-align: right;\n    }\n</style>\n<table border=\"1\" class=\"dataframe\">\n  <thead>\n    <tr style=\"text-align: right;\">\n      <th></th>\n      <th>campaign</th>\n      <th>pdays</th>\n      <th>previous</th>\n      <th>emp.var.rate</th>\n      <th>cons.price.idx</th>\n      <th>cons.conf.idx</th>\n      <th>nr.employed</th>\n      <th>age</th>\n      <th>euribor3m</th>\n    </tr>\n  </thead>\n  <tbody>\n    <tr>\n      <th>0</th>\n      <td>2</td>\n      <td>999</td>\n      <td>0</td>\n      <td>-1.8</td>\n      <td>92.893</td>\n      <td>-46.2</td>\n      <td>5099.1</td>\n      <td>30</td>\n      <td>1.313</td>\n    </tr>\n    <tr>\n      <th>1</th>\n      <td>4</td>\n      <td>999</td>\n      <td>0</td>\n      <td>1.1</td>\n      <td>93.994</td>\n      <td>-36.4</td>\n      <td>5191.0</td>\n      <td>39</td>\n      <td>4.855</td>\n    </tr>\n    <tr>\n      <th>2</th>\n      <td>1</td>\n      <td>999</td>\n      <td>0</td>\n      <td>1.4</td>\n      <td>94.465</td>\n      <td>-41.8</td>\n      <td>5228.1</td>\n      <td>25</td>\n      <td>4.962</td>\n    </tr>\n    <tr>\n      <th>3</th>\n      <td>3</td>\n      <td>999</td>\n      <td>0</td>\n      <td>1.4</td>\n      <td>94.465</td>\n      <td>-41.8</td>\n      <td>5228.1</td>\n      <td>38</td>\n      <td>4.959</td>\n    </tr>\n    <tr>\n      <th>4</th>\n      <td>1</td>\n      <td>999</td>\n      <td>0</td>\n      <td>-0.1</td>\n      <td>93.200</td>\n      <td>-42.0</td>\n      <td>5195.8</td>\n      <td>47</td>\n      <td>4.191</td>\n    </tr>\n  </tbody>\n</table>\n</div>"
     },
     "execution_count": 55,
     "metadata": {},
     "output_type": "execute_result"
    }
   ],
   "source": [
    "df[cols_num].head()"
   ],
   "metadata": {
    "collapsed": false,
    "pycharm": {
     "name": "#%%\n"
    }
   }
  },
  {
   "cell_type": "code",
   "execution_count": 56,
   "outputs": [],
   "source": [
    "cols_cat = ['job', 'marital',\n",
    "            'education', 'default',\n",
    "            'housing', 'loan', 'contact', 'month',\n",
    "            'day_of_week', 'poutcome']"
   ],
   "metadata": {
    "collapsed": false,
    "pycharm": {
     "name": "#%%\n"
    }
   }
  },
  {
   "cell_type": "code",
   "execution_count": 57,
   "outputs": [
    {
     "data": {
      "text/plain": "job            0\nmarital        0\neducation      0\ndefault        0\nhousing        0\nloan           0\ncontact        0\nmonth          0\nday_of_week    0\npoutcome       0\ndtype: int64"
     },
     "execution_count": 57,
     "metadata": {},
     "output_type": "execute_result"
    }
   ],
   "source": [
    "df[cols_cat].isnull().sum()"
   ],
   "metadata": {
    "collapsed": false,
    "pycharm": {
     "name": "#%%\n"
    }
   }
  },
  {
   "cell_type": "code",
   "execution_count": 58,
   "outputs": [
    {
     "data": {
      "text/plain": "   job_admin.  job_blue-collar  job_entrepreneur  job_housemaid  \\\n0           0                1                 0              0   \n1           0                0                 0              0   \n2           0                0                 0              0   \n3           0                0                 0              0   \n4           1                0                 0              0   \n\n   job_management  job_retired  job_self-employed  job_services  job_student  \\\n0               0            0                  0             0            0   \n1               0            0                  0             1            0   \n2               0            0                  0             1            0   \n3               0            0                  0             1            0   \n4               0            0                  0             0            0   \n\n   job_technician  ...  month_oct  month_sep  day_of_week_fri  \\\n0               0  ...          0          0                1   \n1               0  ...          0          0                1   \n2               0  ...          0          0                0   \n3               0  ...          0          0                1   \n4               0  ...          0          0                0   \n\n   day_of_week_mon  day_of_week_thu  day_of_week_tue  day_of_week_wed  \\\n0                0                0                0                0   \n1                0                0                0                0   \n2                0                0                0                1   \n3                0                0                0                0   \n4                1                0                0                0   \n\n   poutcome_failure  poutcome_nonexistent  poutcome_success  \n0                 0                     1                 0  \n1                 0                     1                 0  \n2                 0                     1                 0  \n3                 0                     1                 0  \n4                 0                     1                 0  \n\n[5 rows x 53 columns]",
      "text/html": "<div>\n<style scoped>\n    .dataframe tbody tr th:only-of-type {\n        vertical-align: middle;\n    }\n\n    .dataframe tbody tr th {\n        vertical-align: top;\n    }\n\n    .dataframe thead th {\n        text-align: right;\n    }\n</style>\n<table border=\"1\" class=\"dataframe\">\n  <thead>\n    <tr style=\"text-align: right;\">\n      <th></th>\n      <th>job_admin.</th>\n      <th>job_blue-collar</th>\n      <th>job_entrepreneur</th>\n      <th>job_housemaid</th>\n      <th>job_management</th>\n      <th>job_retired</th>\n      <th>job_self-employed</th>\n      <th>job_services</th>\n      <th>job_student</th>\n      <th>job_technician</th>\n      <th>...</th>\n      <th>month_oct</th>\n      <th>month_sep</th>\n      <th>day_of_week_fri</th>\n      <th>day_of_week_mon</th>\n      <th>day_of_week_thu</th>\n      <th>day_of_week_tue</th>\n      <th>day_of_week_wed</th>\n      <th>poutcome_failure</th>\n      <th>poutcome_nonexistent</th>\n      <th>poutcome_success</th>\n    </tr>\n  </thead>\n  <tbody>\n    <tr>\n      <th>0</th>\n      <td>0</td>\n      <td>1</td>\n      <td>0</td>\n      <td>0</td>\n      <td>0</td>\n      <td>0</td>\n      <td>0</td>\n      <td>0</td>\n      <td>0</td>\n      <td>0</td>\n      <td>...</td>\n      <td>0</td>\n      <td>0</td>\n      <td>1</td>\n      <td>0</td>\n      <td>0</td>\n      <td>0</td>\n      <td>0</td>\n      <td>0</td>\n      <td>1</td>\n      <td>0</td>\n    </tr>\n    <tr>\n      <th>1</th>\n      <td>0</td>\n      <td>0</td>\n      <td>0</td>\n      <td>0</td>\n      <td>0</td>\n      <td>0</td>\n      <td>0</td>\n      <td>1</td>\n      <td>0</td>\n      <td>0</td>\n      <td>...</td>\n      <td>0</td>\n      <td>0</td>\n      <td>1</td>\n      <td>0</td>\n      <td>0</td>\n      <td>0</td>\n      <td>0</td>\n      <td>0</td>\n      <td>1</td>\n      <td>0</td>\n    </tr>\n    <tr>\n      <th>2</th>\n      <td>0</td>\n      <td>0</td>\n      <td>0</td>\n      <td>0</td>\n      <td>0</td>\n      <td>0</td>\n      <td>0</td>\n      <td>1</td>\n      <td>0</td>\n      <td>0</td>\n      <td>...</td>\n      <td>0</td>\n      <td>0</td>\n      <td>0</td>\n      <td>0</td>\n      <td>0</td>\n      <td>0</td>\n      <td>1</td>\n      <td>0</td>\n      <td>1</td>\n      <td>0</td>\n    </tr>\n    <tr>\n      <th>3</th>\n      <td>0</td>\n      <td>0</td>\n      <td>0</td>\n      <td>0</td>\n      <td>0</td>\n      <td>0</td>\n      <td>0</td>\n      <td>1</td>\n      <td>0</td>\n      <td>0</td>\n      <td>...</td>\n      <td>0</td>\n      <td>0</td>\n      <td>1</td>\n      <td>0</td>\n      <td>0</td>\n      <td>0</td>\n      <td>0</td>\n      <td>0</td>\n      <td>1</td>\n      <td>0</td>\n    </tr>\n    <tr>\n      <th>4</th>\n      <td>1</td>\n      <td>0</td>\n      <td>0</td>\n      <td>0</td>\n      <td>0</td>\n      <td>0</td>\n      <td>0</td>\n      <td>0</td>\n      <td>0</td>\n      <td>0</td>\n      <td>...</td>\n      <td>0</td>\n      <td>0</td>\n      <td>0</td>\n      <td>1</td>\n      <td>0</td>\n      <td>0</td>\n      <td>0</td>\n      <td>0</td>\n      <td>1</td>\n      <td>0</td>\n    </tr>\n  </tbody>\n</table>\n<p>5 rows × 53 columns</p>\n</div>"
     },
     "execution_count": 58,
     "metadata": {},
     "output_type": "execute_result"
    }
   ],
   "source": [
    "cols_cat = ['job', 'marital',\n",
    "            'education', 'default',\n",
    "            'housing', 'loan', 'contact', 'month',\n",
    "            'day_of_week', 'poutcome']\n",
    "cols_new_cat = pd.get_dummies(df[cols_cat], drop_first=False)\n",
    "cols_new_cat.head()"
   ],
   "metadata": {
    "collapsed": false,
    "pycharm": {
     "name": "#%%\n"
    }
   }
  },
  {
   "cell_type": "code",
   "execution_count": 59,
   "outputs": [],
   "source": [
    "df = pd.concat([df, cols_new_cat], axis=1)"
   ],
   "metadata": {
    "collapsed": false,
    "pycharm": {
     "name": "#%%\n"
    }
   }
  },
  {
   "cell_type": "code",
   "execution_count": 60,
   "outputs": [],
   "source": [
    "cols_all_cat = list(cols_new_cat.columns)"
   ],
   "metadata": {
    "collapsed": false,
    "pycharm": {
     "name": "#%%\n"
    }
   }
  },
  {
   "cell_type": "code",
   "execution_count": 61,
   "outputs": [
    {
     "data": {
      "text/plain": "   job_admin.  job_blue-collar  job_entrepreneur  job_housemaid  \\\n0           0                1                 0              0   \n1           0                0                 0              0   \n2           0                0                 0              0   \n3           0                0                 0              0   \n4           1                0                 0              0   \n\n   job_management  job_retired  job_self-employed  job_services  job_student  \\\n0               0            0                  0             0            0   \n1               0            0                  0             1            0   \n2               0            0                  0             1            0   \n3               0            0                  0             1            0   \n4               0            0                  0             0            0   \n\n   job_technician  ...  month_oct  month_sep  day_of_week_fri  \\\n0               0  ...          0          0                1   \n1               0  ...          0          0                1   \n2               0  ...          0          0                0   \n3               0  ...          0          0                1   \n4               0  ...          0          0                0   \n\n   day_of_week_mon  day_of_week_thu  day_of_week_tue  day_of_week_wed  \\\n0                0                0                0                0   \n1                0                0                0                0   \n2                0                0                0                1   \n3                0                0                0                0   \n4                1                0                0                0   \n\n   poutcome_failure  poutcome_nonexistent  poutcome_success  \n0                 0                     1                 0  \n1                 0                     1                 0  \n2                 0                     1                 0  \n3                 0                     1                 0  \n4                 0                     1                 0  \n\n[5 rows x 53 columns]",
      "text/html": "<div>\n<style scoped>\n    .dataframe tbody tr th:only-of-type {\n        vertical-align: middle;\n    }\n\n    .dataframe tbody tr th {\n        vertical-align: top;\n    }\n\n    .dataframe thead th {\n        text-align: right;\n    }\n</style>\n<table border=\"1\" class=\"dataframe\">\n  <thead>\n    <tr style=\"text-align: right;\">\n      <th></th>\n      <th>job_admin.</th>\n      <th>job_blue-collar</th>\n      <th>job_entrepreneur</th>\n      <th>job_housemaid</th>\n      <th>job_management</th>\n      <th>job_retired</th>\n      <th>job_self-employed</th>\n      <th>job_services</th>\n      <th>job_student</th>\n      <th>job_technician</th>\n      <th>...</th>\n      <th>month_oct</th>\n      <th>month_sep</th>\n      <th>day_of_week_fri</th>\n      <th>day_of_week_mon</th>\n      <th>day_of_week_thu</th>\n      <th>day_of_week_tue</th>\n      <th>day_of_week_wed</th>\n      <th>poutcome_failure</th>\n      <th>poutcome_nonexistent</th>\n      <th>poutcome_success</th>\n    </tr>\n  </thead>\n  <tbody>\n    <tr>\n      <th>0</th>\n      <td>0</td>\n      <td>1</td>\n      <td>0</td>\n      <td>0</td>\n      <td>0</td>\n      <td>0</td>\n      <td>0</td>\n      <td>0</td>\n      <td>0</td>\n      <td>0</td>\n      <td>...</td>\n      <td>0</td>\n      <td>0</td>\n      <td>1</td>\n      <td>0</td>\n      <td>0</td>\n      <td>0</td>\n      <td>0</td>\n      <td>0</td>\n      <td>1</td>\n      <td>0</td>\n    </tr>\n    <tr>\n      <th>1</th>\n      <td>0</td>\n      <td>0</td>\n      <td>0</td>\n      <td>0</td>\n      <td>0</td>\n      <td>0</td>\n      <td>0</td>\n      <td>1</td>\n      <td>0</td>\n      <td>0</td>\n      <td>...</td>\n      <td>0</td>\n      <td>0</td>\n      <td>1</td>\n      <td>0</td>\n      <td>0</td>\n      <td>0</td>\n      <td>0</td>\n      <td>0</td>\n      <td>1</td>\n      <td>0</td>\n    </tr>\n    <tr>\n      <th>2</th>\n      <td>0</td>\n      <td>0</td>\n      <td>0</td>\n      <td>0</td>\n      <td>0</td>\n      <td>0</td>\n      <td>0</td>\n      <td>1</td>\n      <td>0</td>\n      <td>0</td>\n      <td>...</td>\n      <td>0</td>\n      <td>0</td>\n      <td>0</td>\n      <td>0</td>\n      <td>0</td>\n      <td>0</td>\n      <td>1</td>\n      <td>0</td>\n      <td>1</td>\n      <td>0</td>\n    </tr>\n    <tr>\n      <th>3</th>\n      <td>0</td>\n      <td>0</td>\n      <td>0</td>\n      <td>0</td>\n      <td>0</td>\n      <td>0</td>\n      <td>0</td>\n      <td>1</td>\n      <td>0</td>\n      <td>0</td>\n      <td>...</td>\n      <td>0</td>\n      <td>0</td>\n      <td>1</td>\n      <td>0</td>\n      <td>0</td>\n      <td>0</td>\n      <td>0</td>\n      <td>0</td>\n      <td>1</td>\n      <td>0</td>\n    </tr>\n    <tr>\n      <th>4</th>\n      <td>1</td>\n      <td>0</td>\n      <td>0</td>\n      <td>0</td>\n      <td>0</td>\n      <td>0</td>\n      <td>0</td>\n      <td>0</td>\n      <td>0</td>\n      <td>0</td>\n      <td>...</td>\n      <td>0</td>\n      <td>0</td>\n      <td>0</td>\n      <td>1</td>\n      <td>0</td>\n      <td>0</td>\n      <td>0</td>\n      <td>0</td>\n      <td>1</td>\n      <td>0</td>\n    </tr>\n  </tbody>\n</table>\n<p>5 rows × 53 columns</p>\n</div>"
     },
     "execution_count": 61,
     "metadata": {},
     "output_type": "execute_result"
    }
   ],
   "source": [
    "df[cols_all_cat].head()"
   ],
   "metadata": {
    "collapsed": false,
    "pycharm": {
     "name": "#%%\n"
    }
   }
  },
  {
   "cell_type": "code",
   "execution_count": 62,
   "outputs": [],
   "source": [
    "cols_input = cols_num + cols_all_cat\n",
    "df_data = df[cols_input + ['OUTPUT_LABEL']]"
   ],
   "metadata": {
    "collapsed": false,
    "pycharm": {
     "name": "#%%\n"
    }
   }
  },
  {
   "cell_type": "code",
   "execution_count": 63,
   "outputs": [
    {
     "data": {
      "text/plain": "['campaign',\n 'pdays',\n 'previous',\n 'emp.var.rate',\n 'cons.price.idx',\n 'cons.conf.idx',\n 'nr.employed',\n 'age',\n 'euribor3m',\n 'job_admin.',\n 'job_blue-collar',\n 'job_entrepreneur',\n 'job_housemaid',\n 'job_management',\n 'job_retired',\n 'job_self-employed',\n 'job_services',\n 'job_student',\n 'job_technician',\n 'job_unemployed',\n 'job_unknown',\n 'marital_divorced',\n 'marital_married',\n 'marital_single',\n 'marital_unknown',\n 'education_basic.4y',\n 'education_basic.6y',\n 'education_basic.9y',\n 'education_high.school',\n 'education_illiterate',\n 'education_professional.course',\n 'education_university.degree',\n 'education_unknown',\n 'default_no',\n 'default_unknown',\n 'default_yes',\n 'housing_no',\n 'housing_unknown',\n 'housing_yes',\n 'loan_no',\n 'loan_unknown',\n 'loan_yes',\n 'contact_cellular',\n 'contact_telephone',\n 'month_apr',\n 'month_aug',\n 'month_dec',\n 'month_jul',\n 'month_jun',\n 'month_mar',\n 'month_may',\n 'month_nov',\n 'month_oct',\n 'month_sep',\n 'day_of_week_fri',\n 'day_of_week_mon',\n 'day_of_week_thu',\n 'day_of_week_tue',\n 'day_of_week_wed',\n 'poutcome_failure',\n 'poutcome_nonexistent',\n 'poutcome_success']"
     },
     "execution_count": 63,
     "metadata": {},
     "output_type": "execute_result"
    }
   ],
   "source": [
    "cols_input"
   ],
   "metadata": {
    "collapsed": false,
    "pycharm": {
     "name": "#%%\n"
    }
   }
  },
  {
   "cell_type": "code",
   "execution_count": 64,
   "outputs": [],
   "source": [
    "df_valid_test = df_data.sample(frac=0.30)"
   ],
   "metadata": {
    "collapsed": false,
    "pycharm": {
     "name": "#%%\n"
    }
   }
  },
  {
   "cell_type": "code",
   "execution_count": 65,
   "outputs": [],
   "source": [
    "df_test = df_valid_test.sample(frac=0.5)\n",
    "df_valid = df_valid_test.drop(df_test.index)"
   ],
   "metadata": {
    "collapsed": false,
    "pycharm": {
     "name": "#%%\n"
    }
   }
  },
  {
   "cell_type": "code",
   "execution_count": 66,
   "outputs": [],
   "source": [
    "df_train_all = df_data.drop(df_valid_test.index)"
   ],
   "metadata": {
    "collapsed": false,
    "pycharm": {
     "name": "#%%\n"
    }
   }
  },
  {
   "cell_type": "code",
   "execution_count": 67,
   "outputs": [],
   "source": [
    "rows_pos = df_train_all.OUTPUT_LABEL == 1\n",
    "df_train_pos = df_train_all.loc[rows_pos]\n",
    "df_train_neg = df_train_all.loc[~rows_pos]\n",
    "\n",
    "df_train = pd.concat([df_train_pos, df_train_neg.sample(n=len(df_train_pos))], axis=0)\n",
    "\n",
    "df_train = df_train.sample(n=len(df_train)).reset_index(drop=True)"
   ],
   "metadata": {
    "collapsed": false,
    "pycharm": {
     "name": "#%%\n"
    }
   }
  },
  {
   "cell_type": "code",
   "execution_count": 68,
   "outputs": [],
   "source": [
    "rows_pos = df_valid.OUTPUT_LABEL == 1\n",
    "df_valid_pos = df_valid.loc[rows_pos]\n",
    "df_valid_neg = df_valid.loc[~rows_pos]\n",
    "\n",
    "df_valid = pd.concat([df_valid_pos, df_valid_neg.sample(n=len(df_valid_pos))], axis=0)\n",
    "\n",
    "df_valid = df_valid.sample(n=len(df_valid)).reset_index(drop=True)"
   ],
   "metadata": {
    "collapsed": false,
    "pycharm": {
     "name": "#%%\n"
    }
   }
  },
  {
   "cell_type": "code",
   "execution_count": 69,
   "outputs": [],
   "source": [
    "rows_pos = df_test.OUTPUT_LABEL == 1\n",
    "df_test_pos = df_test.loc[rows_pos]\n",
    "df_test_neg = df_test.loc[~rows_pos]\n",
    "\n",
    "df_test = pd.concat([df_test_pos, df_test_neg.sample(n=len(df_test_pos))], axis=0)\n",
    "\n",
    "df_test = df_test.sample(n=len(df_test)).reset_index(drop=True)"
   ],
   "metadata": {
    "collapsed": false,
    "pycharm": {
     "name": "#%%\n"
    }
   }
  },
  {
   "cell_type": "code",
   "execution_count": 70,
   "outputs": [
    {
     "name": "stdout",
     "output_type": "stream",
     "text": [
      "Training All shapes: (2883, 62)\n",
      "Training shapes: (632, 62) (632,)\n",
      "Validation shapes: (134, 62) (134,)\n"
     ]
    }
   ],
   "source": [
    "X_train = df_train[cols_input].values\n",
    "X_train_all = df_train_all[cols_input].values\n",
    "X_valid = df_valid[cols_input].values\n",
    "\n",
    "y_train = df_train['OUTPUT_LABEL'].values\n",
    "y_valid = df_valid['OUTPUT_LABEL'].values\n",
    "\n",
    "print('Training All shapes:', X_train_all.shape)\n",
    "print('Training shapes:', X_train.shape, y_train.shape)\n",
    "print('Validation shapes:', X_valid.shape, y_valid.shape)"
   ],
   "metadata": {
    "collapsed": false,
    "pycharm": {
     "name": "#%%\n"
    }
   }
  },
  {
   "cell_type": "code",
   "execution_count": 71,
   "outputs": [
    {
     "data": {
      "text/plain": "StandardScaler()"
     },
     "execution_count": 71,
     "metadata": {},
     "output_type": "execute_result"
    }
   ],
   "source": [
    "from sklearn.preprocessing import StandardScaler\n",
    "\n",
    "scaler = StandardScaler()\n",
    "scaler.fit(X_train_all)"
   ],
   "metadata": {
    "collapsed": false,
    "pycharm": {
     "name": "#%%\n"
    }
   }
  },
  {
   "cell_type": "code",
   "execution_count": 72,
   "outputs": [],
   "source": [
    "X_train_tf = scaler.transform(X_train)\n",
    "X_valid_tf = scaler.transform(X_valid)"
   ],
   "metadata": {
    "collapsed": false,
    "pycharm": {
     "name": "#%%\n"
    }
   }
  },
  {
   "cell_type": "code",
   "execution_count": 121,
   "outputs": [],
   "source": [
    "from sklearn.metrics import accuracy_score\n",
    "from sklearn.neighbors import KNeighborsClassifier\n",
    "\n",
    "k_range = range(1, 51, 2)\n",
    "k_scores = []\n",
    "for k in k_range:\n",
    "\tknn = KNeighborsClassifier(n_neighbors=k)\n",
    "\tknn.fit(X_train_tf, y_train)\n",
    "\ty_pred = knn.predict(X_valid_tf)\n",
    "\tk_scores.append(accuracy_score(y_valid, y_pred))"
   ],
   "metadata": {
    "collapsed": false,
    "pycharm": {
     "name": "#%%\n"
    }
   }
  },
  {
   "cell_type": "code",
   "execution_count": 122,
   "outputs": [
    {
     "data": {
      "text/plain": "<Figure size 432x288 with 1 Axes>",
      "image/png": "[encoded data removed]"
     },
     "metadata": {
      "needs_background": "light"
     },
     "output_type": "display_data"
    }
   ],
   "source": [
    "import matplotlib.pyplot as plt\n",
    "\n",
    "# Plot the accuracy score as a function of k\n",
    "plt.plot(k_range, k_scores)\n",
    "plt.xlabel('Value of K for KNN')\n",
    "plt.ylabel('Cross-Validated Accuracy')\n",
    "plt.show()"
   ],
   "metadata": {
    "collapsed": false,
    "pycharm": {
     "name": "#%%plot\n"
    }
   }
  },
  {
   "cell_type": "code",
   "execution_count": 123,
   "outputs": [
    {
     "name": "stdout",
     "output_type": "stream",
     "text": [
      "Best K: 23\n",
      "Best Accuracy: 0.7388\n"
     ]
    },
    {
     "data": {
      "text/plain": "array([[53, 14],\n       [27, 40]], dtype=int64)"
     },
     "execution_count": 123,
     "metadata": {},
     "output_type": "execute_result"
    }
   ],
   "source": [
    "from sklearn.metrics import confusion_matrix\n",
    "\n",
    "# Find the number of neighbors corresponding to the best accuracy\n",
    "best_k = k_scores.index(max(k_scores)) + 1\n",
    "print('Best K:', best_k)\n",
    "print('Best Accuracy: %.4f' % k_scores[best_k - 1])\n",
    "\n",
    "# Create a confusion matrix using the best K value\n",
    "knn = KNeighborsClassifier(n_neighbors=best_k)\n",
    "knn.fit(X_train_tf, y_train)\n",
    "y_pred = knn.predict(X_valid_tf)\n",
    "confusion_matrix(y_valid, y_pred)"
   ],
   "metadata": {
    "collapsed": false,
    "pycharm": {
     "name": "#%%\n"
    }
   }
  },
  {
   "cell_type": "code",
   "execution_count": 124,
   "outputs": [
    {
     "name": "stdout",
     "output_type": "stream",
     "text": [
      "              precision    recall  f1-score   support\n",
      "\n",
      "           0       0.66      0.79      0.72        67\n",
      "           1       0.74      0.60      0.66        67\n",
      "\n",
      "    accuracy                           0.69       134\n",
      "   macro avg       0.70      0.69      0.69       134\n",
      "weighted avg       0.70      0.69      0.69       134\n",
      "\n"
     ]
    }
   ],
   "source": [
    "from sklearn.metrics import classification_report\n",
    "\n",
    "# Print the classification report\n",
    "print(classification_report(y_valid, y_pred))"
   ],
   "metadata": {
    "collapsed": false,
    "pycharm": {
     "name": "#%%\n"
    }
   }
  }
 ],
 "metadata": {
  "kernelspec": {
   "display_name": "Python 3",
   "language": "python",
   "name": "python3"
  },
  "language_info": {
   "codemirror_mode": {
    "name": "ipython",
    "version": 2
   },
   "file_extension": ".py",
   "mimetype": "text/x-python",
   "name": "python",
   "nbconvert_exporter": "python",
   "pygments_lexer": "ipython2",
   "version": "2.7.6"
  }
 },
 "nbformat": 4,
 "nbformat_minor": 0
}